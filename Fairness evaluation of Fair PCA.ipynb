{
 "cells": [
  {
   "cell_type": "code",
   "execution_count": 2,
   "metadata": {},
   "outputs": [],
   "source": [
    "import numpy as np\n",
    "import matplotlib.pyplot as plt\n",
    "from mpl_toolkits.mplot3d import Axes3D\n",
    "\n",
    "import pandas as pd \n",
    "\n",
    "from sklearn import decomposition\n",
    "from sklearn import datasets\n",
    "from sklearn import preprocessing\n",
    "from sklearn.ensemble import RandomForestClassifier\n",
    "from sklearn import metrics\n",
    "\n",
    "import sklearn"
   ]
  },
  {
   "cell_type": "code",
   "execution_count": 3,
   "metadata": {},
   "outputs": [],
   "source": [
    "Xo = pd.read_csv(\"data/credit/default_degree_labeled.csv\", delimiter=\",\")"
   ]
  },
  {
   "cell_type": "code",
   "execution_count": 4,
   "metadata": {},
   "outputs": [],
   "source": [
    "EDU_GRAD = 1\n",
    "EDU_UNIVERSITY = 2\n",
    "EDU_HIGHSCHOOL = 3\n",
    "EDU_OTHER = 4\n"
   ]
  },
  {
   "cell_type": "code",
   "execution_count": 5,
   "metadata": {
    "scrolled": true
   },
   "outputs": [
    {
     "data": {
      "text/html": [
       "<div>\n",
       "<style scoped>\n",
       "    .dataframe tbody tr th:only-of-type {\n",
       "        vertical-align: middle;\n",
       "    }\n",
       "\n",
       "    .dataframe tbody tr th {\n",
       "        vertical-align: top;\n",
       "    }\n",
       "\n",
       "    .dataframe thead th {\n",
       "        text-align: right;\n",
       "    }\n",
       "</style>\n",
       "<table border=\"1\" class=\"dataframe\">\n",
       "  <thead>\n",
       "    <tr style=\"text-align: right;\">\n",
       "      <th></th>\n",
       "      <th>ID</th>\n",
       "      <th>LIMIT_BAL</th>\n",
       "      <th>SEX</th>\n",
       "      <th>EDUCATION</th>\n",
       "      <th>MARRIAGE</th>\n",
       "      <th>AGE</th>\n",
       "      <th>PAY_0</th>\n",
       "      <th>PAY_2</th>\n",
       "      <th>PAY_3</th>\n",
       "      <th>PAY_4</th>\n",
       "      <th>...</th>\n",
       "      <th>BILL_AMT4</th>\n",
       "      <th>BILL_AMT5</th>\n",
       "      <th>BILL_AMT6</th>\n",
       "      <th>PAY_AMT1</th>\n",
       "      <th>PAY_AMT2</th>\n",
       "      <th>PAY_AMT3</th>\n",
       "      <th>PAY_AMT4</th>\n",
       "      <th>PAY_AMT5</th>\n",
       "      <th>PAY_AMT6</th>\n",
       "      <th>TARGET</th>\n",
       "    </tr>\n",
       "  </thead>\n",
       "  <tbody>\n",
       "    <tr>\n",
       "      <th>0</th>\n",
       "      <td>1</td>\n",
       "      <td>20000</td>\n",
       "      <td>2</td>\n",
       "      <td>2</td>\n",
       "      <td>1</td>\n",
       "      <td>24</td>\n",
       "      <td>2</td>\n",
       "      <td>2</td>\n",
       "      <td>-1</td>\n",
       "      <td>-1</td>\n",
       "      <td>...</td>\n",
       "      <td>0</td>\n",
       "      <td>0</td>\n",
       "      <td>0</td>\n",
       "      <td>0</td>\n",
       "      <td>689</td>\n",
       "      <td>0</td>\n",
       "      <td>0</td>\n",
       "      <td>0</td>\n",
       "      <td>0</td>\n",
       "      <td>1</td>\n",
       "    </tr>\n",
       "    <tr>\n",
       "      <th>1</th>\n",
       "      <td>2</td>\n",
       "      <td>120000</td>\n",
       "      <td>2</td>\n",
       "      <td>2</td>\n",
       "      <td>2</td>\n",
       "      <td>26</td>\n",
       "      <td>-1</td>\n",
       "      <td>2</td>\n",
       "      <td>0</td>\n",
       "      <td>0</td>\n",
       "      <td>...</td>\n",
       "      <td>3272</td>\n",
       "      <td>3455</td>\n",
       "      <td>3261</td>\n",
       "      <td>0</td>\n",
       "      <td>1000</td>\n",
       "      <td>1000</td>\n",
       "      <td>1000</td>\n",
       "      <td>0</td>\n",
       "      <td>2000</td>\n",
       "      <td>1</td>\n",
       "    </tr>\n",
       "    <tr>\n",
       "      <th>2</th>\n",
       "      <td>3</td>\n",
       "      <td>90000</td>\n",
       "      <td>2</td>\n",
       "      <td>2</td>\n",
       "      <td>2</td>\n",
       "      <td>34</td>\n",
       "      <td>0</td>\n",
       "      <td>0</td>\n",
       "      <td>0</td>\n",
       "      <td>0</td>\n",
       "      <td>...</td>\n",
       "      <td>14331</td>\n",
       "      <td>14948</td>\n",
       "      <td>15549</td>\n",
       "      <td>1518</td>\n",
       "      <td>1500</td>\n",
       "      <td>1000</td>\n",
       "      <td>1000</td>\n",
       "      <td>1000</td>\n",
       "      <td>5000</td>\n",
       "      <td>0</td>\n",
       "    </tr>\n",
       "    <tr>\n",
       "      <th>3</th>\n",
       "      <td>4</td>\n",
       "      <td>50000</td>\n",
       "      <td>2</td>\n",
       "      <td>2</td>\n",
       "      <td>1</td>\n",
       "      <td>37</td>\n",
       "      <td>0</td>\n",
       "      <td>0</td>\n",
       "      <td>0</td>\n",
       "      <td>0</td>\n",
       "      <td>...</td>\n",
       "      <td>28314</td>\n",
       "      <td>28959</td>\n",
       "      <td>29547</td>\n",
       "      <td>2000</td>\n",
       "      <td>2019</td>\n",
       "      <td>1200</td>\n",
       "      <td>1100</td>\n",
       "      <td>1069</td>\n",
       "      <td>1000</td>\n",
       "      <td>0</td>\n",
       "    </tr>\n",
       "    <tr>\n",
       "      <th>4</th>\n",
       "      <td>5</td>\n",
       "      <td>50000</td>\n",
       "      <td>1</td>\n",
       "      <td>2</td>\n",
       "      <td>1</td>\n",
       "      <td>57</td>\n",
       "      <td>-1</td>\n",
       "      <td>0</td>\n",
       "      <td>-1</td>\n",
       "      <td>0</td>\n",
       "      <td>...</td>\n",
       "      <td>20940</td>\n",
       "      <td>19146</td>\n",
       "      <td>19131</td>\n",
       "      <td>2000</td>\n",
       "      <td>36681</td>\n",
       "      <td>10000</td>\n",
       "      <td>9000</td>\n",
       "      <td>689</td>\n",
       "      <td>679</td>\n",
       "      <td>0</td>\n",
       "    </tr>\n",
       "    <tr>\n",
       "      <th>...</th>\n",
       "      <td>...</td>\n",
       "      <td>...</td>\n",
       "      <td>...</td>\n",
       "      <td>...</td>\n",
       "      <td>...</td>\n",
       "      <td>...</td>\n",
       "      <td>...</td>\n",
       "      <td>...</td>\n",
       "      <td>...</td>\n",
       "      <td>...</td>\n",
       "      <td>...</td>\n",
       "      <td>...</td>\n",
       "      <td>...</td>\n",
       "      <td>...</td>\n",
       "      <td>...</td>\n",
       "      <td>...</td>\n",
       "      <td>...</td>\n",
       "      <td>...</td>\n",
       "      <td>...</td>\n",
       "      <td>...</td>\n",
       "      <td>...</td>\n",
       "    </tr>\n",
       "    <tr>\n",
       "      <th>29995</th>\n",
       "      <td>29996</td>\n",
       "      <td>220000</td>\n",
       "      <td>1</td>\n",
       "      <td>3</td>\n",
       "      <td>1</td>\n",
       "      <td>39</td>\n",
       "      <td>0</td>\n",
       "      <td>0</td>\n",
       "      <td>0</td>\n",
       "      <td>0</td>\n",
       "      <td>...</td>\n",
       "      <td>88004</td>\n",
       "      <td>31237</td>\n",
       "      <td>15980</td>\n",
       "      <td>8500</td>\n",
       "      <td>20000</td>\n",
       "      <td>5003</td>\n",
       "      <td>3047</td>\n",
       "      <td>5000</td>\n",
       "      <td>1000</td>\n",
       "      <td>0</td>\n",
       "    </tr>\n",
       "    <tr>\n",
       "      <th>29996</th>\n",
       "      <td>29997</td>\n",
       "      <td>150000</td>\n",
       "      <td>1</td>\n",
       "      <td>3</td>\n",
       "      <td>2</td>\n",
       "      <td>43</td>\n",
       "      <td>-1</td>\n",
       "      <td>-1</td>\n",
       "      <td>-1</td>\n",
       "      <td>-1</td>\n",
       "      <td>...</td>\n",
       "      <td>8979</td>\n",
       "      <td>5190</td>\n",
       "      <td>0</td>\n",
       "      <td>1837</td>\n",
       "      <td>3526</td>\n",
       "      <td>8998</td>\n",
       "      <td>129</td>\n",
       "      <td>0</td>\n",
       "      <td>0</td>\n",
       "      <td>0</td>\n",
       "    </tr>\n",
       "    <tr>\n",
       "      <th>29997</th>\n",
       "      <td>29998</td>\n",
       "      <td>30000</td>\n",
       "      <td>1</td>\n",
       "      <td>2</td>\n",
       "      <td>2</td>\n",
       "      <td>37</td>\n",
       "      <td>4</td>\n",
       "      <td>3</td>\n",
       "      <td>2</td>\n",
       "      <td>-1</td>\n",
       "      <td>...</td>\n",
       "      <td>20878</td>\n",
       "      <td>20582</td>\n",
       "      <td>19357</td>\n",
       "      <td>0</td>\n",
       "      <td>0</td>\n",
       "      <td>22000</td>\n",
       "      <td>4200</td>\n",
       "      <td>2000</td>\n",
       "      <td>3100</td>\n",
       "      <td>1</td>\n",
       "    </tr>\n",
       "    <tr>\n",
       "      <th>29998</th>\n",
       "      <td>29999</td>\n",
       "      <td>80000</td>\n",
       "      <td>1</td>\n",
       "      <td>3</td>\n",
       "      <td>1</td>\n",
       "      <td>41</td>\n",
       "      <td>1</td>\n",
       "      <td>-1</td>\n",
       "      <td>0</td>\n",
       "      <td>0</td>\n",
       "      <td>...</td>\n",
       "      <td>52774</td>\n",
       "      <td>11855</td>\n",
       "      <td>48944</td>\n",
       "      <td>85900</td>\n",
       "      <td>3409</td>\n",
       "      <td>1178</td>\n",
       "      <td>1926</td>\n",
       "      <td>52964</td>\n",
       "      <td>1804</td>\n",
       "      <td>1</td>\n",
       "    </tr>\n",
       "    <tr>\n",
       "      <th>29999</th>\n",
       "      <td>30000</td>\n",
       "      <td>50000</td>\n",
       "      <td>1</td>\n",
       "      <td>2</td>\n",
       "      <td>1</td>\n",
       "      <td>46</td>\n",
       "      <td>0</td>\n",
       "      <td>0</td>\n",
       "      <td>0</td>\n",
       "      <td>0</td>\n",
       "      <td>...</td>\n",
       "      <td>36535</td>\n",
       "      <td>32428</td>\n",
       "      <td>15313</td>\n",
       "      <td>2078</td>\n",
       "      <td>1800</td>\n",
       "      <td>1430</td>\n",
       "      <td>1000</td>\n",
       "      <td>1000</td>\n",
       "      <td>1000</td>\n",
       "      <td>1</td>\n",
       "    </tr>\n",
       "  </tbody>\n",
       "</table>\n",
       "<p>30000 rows × 25 columns</p>\n",
       "</div>"
      ],
      "text/plain": [
       "          ID  LIMIT_BAL  SEX  EDUCATION  MARRIAGE  AGE  PAY_0  PAY_2  PAY_3  \\\n",
       "0          1      20000    2          2         1   24      2      2     -1   \n",
       "1          2     120000    2          2         2   26     -1      2      0   \n",
       "2          3      90000    2          2         2   34      0      0      0   \n",
       "3          4      50000    2          2         1   37      0      0      0   \n",
       "4          5      50000    1          2         1   57     -1      0     -1   \n",
       "...      ...        ...  ...        ...       ...  ...    ...    ...    ...   \n",
       "29995  29996     220000    1          3         1   39      0      0      0   \n",
       "29996  29997     150000    1          3         2   43     -1     -1     -1   \n",
       "29997  29998      30000    1          2         2   37      4      3      2   \n",
       "29998  29999      80000    1          3         1   41      1     -1      0   \n",
       "29999  30000      50000    1          2         1   46      0      0      0   \n",
       "\n",
       "       PAY_4  ...  BILL_AMT4  BILL_AMT5  BILL_AMT6  PAY_AMT1  PAY_AMT2  \\\n",
       "0         -1  ...          0          0          0         0       689   \n",
       "1          0  ...       3272       3455       3261         0      1000   \n",
       "2          0  ...      14331      14948      15549      1518      1500   \n",
       "3          0  ...      28314      28959      29547      2000      2019   \n",
       "4          0  ...      20940      19146      19131      2000     36681   \n",
       "...      ...  ...        ...        ...        ...       ...       ...   \n",
       "29995      0  ...      88004      31237      15980      8500     20000   \n",
       "29996     -1  ...       8979       5190          0      1837      3526   \n",
       "29997     -1  ...      20878      20582      19357         0         0   \n",
       "29998      0  ...      52774      11855      48944     85900      3409   \n",
       "29999      0  ...      36535      32428      15313      2078      1800   \n",
       "\n",
       "       PAY_AMT3  PAY_AMT4  PAY_AMT5  PAY_AMT6  TARGET  \n",
       "0             0         0         0         0       1  \n",
       "1          1000      1000         0      2000       1  \n",
       "2          1000      1000      1000      5000       0  \n",
       "3          1200      1100      1069      1000       0  \n",
       "4         10000      9000       689       679       0  \n",
       "...         ...       ...       ...       ...     ...  \n",
       "29995      5003      3047      5000      1000       0  \n",
       "29996      8998       129         0         0       0  \n",
       "29997     22000      4200      2000      3100       1  \n",
       "29998      1178      1926     52964      1804       1  \n",
       "29999      1430      1000      1000      1000       1  \n",
       "\n",
       "[30000 rows x 25 columns]"
      ]
     },
     "execution_count": 5,
     "metadata": {},
     "output_type": "execute_result"
    }
   ],
   "source": [
    "Xo"
   ]
  },
  {
   "cell_type": "code",
   "execution_count": 6,
   "metadata": {},
   "outputs": [],
   "source": [
    "X = Xo.drop([\"ID\", \"EDUCATION\"], axis=1)"
   ]
  },
  {
   "cell_type": "code",
   "execution_count": 7,
   "metadata": {},
   "outputs": [],
   "source": [
    "def normalize(x):\n",
    "    return (x - x.mean()) / x.std()"
   ]
  },
  {
   "cell_type": "code",
   "execution_count": 9,
   "metadata": {},
   "outputs": [],
   "source": [
    "X_nrm = normalize(X)"
   ]
  },
  {
   "cell_type": "code",
   "execution_count": 12,
   "metadata": {},
   "outputs": [],
   "source": [
    "X_lowEd = X_nrm[(Xo.EDUCATION == EDU_OTHER) | (Xo.EDUCATION == EDU_HIGHSCHOOL)]\n",
    "X_highEd = X_nrm[(Xo.EDUCATION == EDU_GRAD) | (Xo.EDUCATION == EDU_UNIVERSITY)]"
   ]
  },
  {
   "cell_type": "code",
   "execution_count": 22,
   "metadata": {},
   "outputs": [],
   "source": [
    "A = X_lowEd - X_lowEd.mean()\n",
    "B = X_highEd - X_highEd.mean()"
   ]
  },
  {
   "cell_type": "code",
   "execution_count": 8,
   "metadata": {},
   "outputs": [],
   "source": [
    "def get_pca(X, n):\n",
    "    pca = decomposition.PCA(n_components=n)\n",
    "    pca.fit(X)\n",
    "    return pca\n",
    "\n",
    "\n",
    "def re(x_arr, pca):\n",
    "    x_t = pca.transform(x_arr)\n",
    "    x_reconst = pca.inverse_transform(x_t)\n",
    "    err = np.sum((x_arr - x_reconst)**2, axis=1)\n",
    "    return np.sum(err)\n",
    "\n",
    "\n",
    "def reconstruction_error(x_arr, pca):\n",
    "    return re(x_arr, pca) / len(x_arr)\n",
    "\n",
    "\n",
    "def loss(x_group, x_all, n):\n",
    "    \"\"\"Computes reconstruction loss defined in (Samadi et al, 2018) definition 4.3\n",
    "    \n",
    "    Args:\n",
    "        x_group (nd-array): protected group \n",
    "        x_all (nd-array): full population\n",
    "        n (int): # params in PCA\n",
    "    \n",
    "    Returns:\n",
    "        loss value, float\n",
    "    \"\"\"\n",
    "    pca_all = get_pca(x_all, n)\n",
    "    pca_group = get_pca(x_group, n)\n",
    "    res = reconstruction_error(x_group, pca_all) - reconstruction_error(x_group, pca_group)\n",
    "    assert res >= 0\n",
    "    return res"
   ]
  },
  {
   "cell_type": "markdown",
   "metadata": {},
   "source": [
    "Plot according to the Github repo of Samadi et al"
   ]
  },
  {
   "cell_type": "code",
   "execution_count": 26,
   "metadata": {},
   "outputs": [],
   "source": [
    "recons_A = [reconstruction_error(A, get_pca(X_nrm, i)) for i in range(1,20)]\n",
    "recons_B = [reconstruction_error(B, get_pca(X_nrm, i)) for i in range(1,20)]"
   ]
  },
  {
   "cell_type": "code",
   "execution_count": 32,
   "metadata": {},
   "outputs": [
    {
     "data": {
      "image/png": "[encoded data removed]",
      "text/plain": [
       "<Figure size 432x288 with 1 Axes>"
      ]
     },
     "metadata": {
      "needs_background": "light"
     },
     "output_type": "display_data"
    }
   ],
   "source": [
    "plt.figure(figsize=(6,4))\n",
    "plt.cla()\n",
    "plt.plot(recons_A, c='b', label='low-ed') # low education\n",
    "plt.plot(recons_B, c='r', label='high-ed') #\n",
    "# plt.plot([reconstruction_error(X_nrm, get_pca(X_nrm, i)) for i in range(1,20)], c='g')\n",
    "plt.legend()\n",
    "plt.show()"
   ]
  },
  {
   "cell_type": "code",
   "execution_count": 63,
   "metadata": {},
   "outputs": [],
   "source": [
    "loss_A = [loss(A, X_nrm, i) for i in range(1,20)]\n",
    "loss_B = [loss(B, X_nrm, i) for i in range(1,20)]"
   ]
  },
  {
   "cell_type": "code",
   "execution_count": 64,
   "metadata": {},
   "outputs": [
    {
     "data": {
      "image/png": "[encoded data removed]",
      "text/plain": [
       "<Figure size 432x288 with 1 Axes>"
      ]
     },
     "metadata": {
      "needs_background": "light"
     },
     "output_type": "display_data"
    }
   ],
   "source": [
    "plt.figure(figsize=(6,4))\n",
    "plt.cla()\n",
    "plt.title(\"Average Loss on Vanilla PCA\")\n",
    "plt.plot(loss_A, c='b', label='low-ed') # low education\n",
    "plt.plot(loss_B, c='r', label='high-ed') #\n",
    "plt.legend()\n",
    "plt.show()"
   ]
  },
  {
   "cell_type": "markdown",
   "metadata": {},
   "source": [
    "The moving of the means for low-ed and high-ed does not make any sense, you can't just arbitrarily change the data"
   ]
  },
  {
   "cell_type": "code",
   "execution_count": 28,
   "metadata": {},
   "outputs": [],
   "source": [
    "recons_A_nomove = [reconstruction_error(X_lowEd, get_pca(X_nrm, i)) for i in range(1,20)]\n",
    "recons_B_nomove = [reconstruction_error(X_highEd, get_pca(X_nrm, i)) for i in range(1,20)]"
   ]
  },
  {
   "cell_type": "code",
   "execution_count": 30,
   "metadata": {},
   "outputs": [
    {
     "data": {
      "text/plain": [
       "5040"
      ]
     },
     "execution_count": 30,
     "metadata": {},
     "output_type": "execute_result"
    }
   ],
   "source": [
    "len(A)"
   ]
  },
  {
   "cell_type": "code",
   "execution_count": 31,
   "metadata": {},
   "outputs": [
    {
     "data": {
      "text/plain": [
       "24615"
      ]
     },
     "execution_count": 31,
     "metadata": {},
     "output_type": "execute_result"
    }
   ],
   "source": [
    "len(B)"
   ]
  },
  {
   "cell_type": "code",
   "execution_count": 29,
   "metadata": {},
   "outputs": [
    {
     "data": {
      "image/png": "[encoded data removed]",
      "text/plain": [
       "<Figure size 864x576 with 1 Axes>"
      ]
     },
     "metadata": {
      "needs_background": "light"
     },
     "output_type": "display_data"
    }
   ],
   "source": [
    "plt.figure(figsize=(12,8))\n",
    "plt.cla()\n",
    "plt.plot(recons_A_nomove, c='b', label='low-ed') # low education\n",
    "plt.plot(recons_B_nomove, c='r', label='high-ed') #\n",
    "# plt.plot([reconstruction_error(X_nrm, get_pca(X_nrm, i)) for i in range(1,20)], c='g')\n",
    "plt.legend()\n",
    "plt.show()"
   ]
  },
  {
   "cell_type": "markdown",
   "metadata": {},
   "source": [
    "# Word to word"
   ]
  },
  {
   "cell_type": "markdown",
   "metadata": {},
   "source": [
    "Translate the matlab functions in Samadi et al"
   ]
  },
  {
   "cell_type": "code",
   "execution_count": 58,
   "metadata": {},
   "outputs": [],
   "source": [
    "\n",
    "def _re(Y, Z):\n",
    "    from numpy.linalg import norm\n",
    "    return norm(Y - Z, 'fro')**2\n",
    "\n",
    "def _optApprox(Y, d):\n",
    "    pca_Yhat = get_pca(Y, d)\n",
    "    return pca_Yhat.inverse_transform(pca_Yhat.transform(Y))\n",
    "\n",
    "def _reconstructBasedOn(X, pca):\n",
    "    return pca.inverse_transform(pca.transform(X))\n",
    "\n",
    "def _loss(Y, Z, d):\n",
    "    Yhat = _optApprox(Y, d)\n",
    "    loss = _re(Y, Z) - _re(Y, Yhat)\n",
    "    return loss\n"
   ]
  },
  {
   "cell_type": "code",
   "execution_count": 60,
   "metadata": {},
   "outputs": [],
   "source": [
    "loss_A = []\n",
    "loss_B = []\n",
    "\n",
    "for i in range(1, 22):\n",
    "    pca = get_pca(X_nrm, i)\n",
    "    approx_A = _reconstructBasedOn(A, pca)\n",
    "    approx_B = _reconstructBasedOn(B, pca)\n",
    "    tmp_loss_A = loss(A, approx_A, i) / A.shape[0]\n",
    "    tmp_loss_B = loss(B, approx_B, i) / B.shape[0]\n",
    "    loss_A.append(tmp_loss_A)\n",
    "    loss_B.append(tmp_loss_B)"
   ]
  },
  {
   "cell_type": "code",
   "execution_count": 62,
   "metadata": {},
   "outputs": [
    {
     "data": {
      "image/png": "[encoded data removed]",
      "text/plain": [
       "<Figure size 432x288 with 1 Axes>"
      ]
     },
     "metadata": {
      "needs_background": "light"
     },
     "output_type": "display_data"
    }
   ],
   "source": [
    "plt.figure(figsize=(6,4))\n",
    "plt.cla()\n",
    "plt.plot(loss_A, c='b', label='low-ed') # low education\n",
    "plt.plot(loss_B, c='r', label='high-ed') #\n",
    "plt.legend()\n",
    "plt.show()"
   ]
  },
  {
   "cell_type": "markdown",
   "metadata": {},
   "source": [
    "Still seems like there's a difference b/w this shape and the one in the publication"
   ]
  },
  {
   "cell_type": "markdown",
   "metadata": {},
   "source": [
    "# Balanced"
   ]
  },
  {
   "cell_type": "code",
   "execution_count": 147,
   "metadata": {},
   "outputs": [
    {
     "data": {
      "text/plain": [
       "5040"
      ]
     },
     "execution_count": 147,
     "metadata": {},
     "output_type": "execute_result"
    }
   ],
   "source": [
    "len(A)"
   ]
  },
  {
   "cell_type": "code",
   "execution_count": 148,
   "metadata": {},
   "outputs": [
    {
     "data": {
      "text/plain": [
       "24615"
      ]
     },
     "execution_count": 148,
     "metadata": {},
     "output_type": "execute_result"
    }
   ],
   "source": [
    "len(B)"
   ]
  },
  {
   "cell_type": "code",
   "execution_count": 149,
   "metadata": {},
   "outputs": [],
   "source": [
    "N = len(A)"
   ]
  },
  {
   "cell_type": "code",
   "execution_count": 150,
   "metadata": {},
   "outputs": [],
   "source": [
    "Xr_lowEd = X[(Xo.EDUCATION == EDU_OTHER) | (Xo.EDUCATION == EDU_HIGHSCHOOL)]\n",
    "Xr_highEd = X[(Xo.EDUCATION == EDU_GRAD) | (Xo.EDUCATION == EDU_UNIVERSITY)]"
   ]
  },
  {
   "cell_type": "code",
   "execution_count": 151,
   "metadata": {},
   "outputs": [],
   "source": [
    "Xr_highEd_s = Xr_highEd.sample(N, replace=False)"
   ]
  },
  {
   "cell_type": "code",
   "execution_count": 152,
   "metadata": {},
   "outputs": [],
   "source": [
    "X2 = Xr_lowEd.append(Xr_highEd_s)"
   ]
  },
  {
   "cell_type": "code",
   "execution_count": 153,
   "metadata": {},
   "outputs": [],
   "source": [
    "X2_nrm = normalize(X2)\n",
    "X2_lowEd = X2_nrm[:N]\n",
    "X2_highEd = X2_nrm[N:]"
   ]
  },
  {
   "cell_type": "code",
   "execution_count": 154,
   "metadata": {},
   "outputs": [],
   "source": [
    "A2 = X2_lowEd - X2_lowEd.mean()\n",
    "B2 = X2_highEd - X2_highEd.mean()"
   ]
  },
  {
   "cell_type": "code",
   "execution_count": 155,
   "metadata": {},
   "outputs": [],
   "source": [
    "loss_A2 = [loss(A2, X2_nrm, i) for i in range(1,20)]\n",
    "loss_B2 = [loss(B2, X2_nrm, i) for i in range(1,20)]"
   ]
  },
  {
   "cell_type": "code",
   "execution_count": 156,
   "metadata": {},
   "outputs": [
    {
     "data": {
      "image/png": "[encoded data removed]",
      "text/plain": [
       "<Figure size 432x288 with 1 Axes>"
      ]
     },
     "metadata": {
      "needs_background": "light"
     },
     "output_type": "display_data"
    }
   ],
   "source": [
    "plt.figure(figsize=(6,4))\n",
    "plt.cla()\n",
    "plt.plot(loss_A2, c='b', label='low-ed') # low education\n",
    "plt.plot(loss_B2, c='r', label='high-ed') #\n",
    "plt.legend()\n",
    "plt.show()"
   ]
  },
  {
   "cell_type": "code",
   "execution_count": 109,
   "metadata": {},
   "outputs": [
    {
     "data": {
      "text/plain": [
       "24615"
      ]
     },
     "execution_count": 109,
     "metadata": {},
     "output_type": "execute_result"
    }
   ],
   "source": [
    "len(Xr_highEd)"
   ]
  },
  {
   "cell_type": "code",
   "execution_count": 160,
   "metadata": {},
   "outputs": [],
   "source": [
    "def tryout(Xo, seed=1):\n",
    "    X = Xo.drop([\"ID\", \"EDUCATION\"], axis=1)\n",
    "    Xr_lowEd = X[(Xo.EDUCATION == EDU_OTHER) | (Xo.EDUCATION == EDU_HIGHSCHOOL)]\n",
    "    Xr_highEd = X[(Xo.EDUCATION == EDU_GRAD) | (Xo.EDUCATION == EDU_UNIVERSITY)]\n",
    "    Xr_highEd_s = Xr_highEd.sample(N, replace=False, random_state=seed)\n",
    "    X2 = Xr_lowEd.append(Xr_highEd_s)\n",
    "    X2_nrm = normalize(X2)\n",
    "    X2_lowEd = X2_nrm[:N]\n",
    "    X2_highEd = X2_nrm[N:]\n",
    "    A2 = X2_lowEd - X2_lowEd.mean()\n",
    "    B2 = X2_highEd - X2_highEd.mean()\n",
    "    loss_A2 = [loss(A2, X2_nrm, i) for i in range(1,20)]\n",
    "    loss_B2 = [loss(B2, X2_nrm, i) for i in range(1,20)]\n",
    "    plt.figure(figsize=(6,4))\n",
    "    plt.cla()\n",
    "    plt.plot(loss_A2, c='b', label='low-ed') # low education\n",
    "    plt.plot(loss_B2, c='r', label='high-ed') #\n",
    "    plt.legend()\n",
    "    plt.show()\n",
    "    "
   ]
  },
  {
   "cell_type": "code",
   "execution_count": 141,
   "metadata": {},
   "outputs": [
    {
     "data": {
      "image/png": "[encoded data removed]",
      "text/plain": [
       "<Figure size 432x288 with 1 Axes>"
      ]
     },
     "metadata": {
      "needs_background": "light"
     },
     "output_type": "display_data"
    }
   ],
   "source": [
    "tryout(Xo, seed=2)"
   ]
  },
  {
   "cell_type": "code",
   "execution_count": 166,
   "metadata": {},
   "outputs": [
    {
     "data": {
      "image/png": "[encoded data removed]",
      "text/plain": [
       "<Figure size 432x288 with 1 Axes>"
      ]
     },
     "metadata": {
      "needs_background": "light"
     },
     "output_type": "display_data"
    }
   ],
   "source": [
    "tryout(Xo, seed=2)"
   ]
  },
  {
   "cell_type": "code",
   "execution_count": 169,
   "metadata": {},
   "outputs": [],
   "source": [
    "def tryout_arr(Xo, seed=1):\n",
    "    X = Xo.drop([\"ID\", \"EDUCATION\"], axis=1)\n",
    "    Xr_lowEd = X[(Xo.EDUCATION == EDU_OTHER) | (Xo.EDUCATION == EDU_HIGHSCHOOL)]\n",
    "    Xr_highEd = X[(Xo.EDUCATION == EDU_GRAD) | (Xo.EDUCATION == EDU_UNIVERSITY)]\n",
    "    Xr_highEd_s = Xr_highEd.sample(N, replace=False, random_state=seed)\n",
    "    X2 = Xr_lowEd.append(Xr_highEd_s)\n",
    "    X2_nrm = normalize(X2)\n",
    "    X2_lowEd = X2_nrm[:N]\n",
    "    X2_highEd = X2_nrm[N:]\n",
    "    A2 = X2_lowEd - X2_lowEd.mean()\n",
    "    B2 = X2_highEd - X2_highEd.mean()\n",
    "    loss_A2 = [loss(A2, X2_nrm, i) for i in range(1,20)]\n",
    "    loss_B2 = [loss(B2, X2_nrm, i) for i in range(1,20)]\n",
    "    return loss_A2, loss_B2"
   ]
  },
  {
   "cell_type": "code",
   "execution_count": 179,
   "metadata": {},
   "outputs": [],
   "source": [
    "a_agg = np.zeros(19)\n",
    "b_agg = np.zeros(19)\n",
    "\n",
    "for i in range(100):\n",
    "    a, b = tryout_arr(Xo, seed=i)\n",
    "    a_agg += a\n",
    "    b_agg += b\n"
   ]
  },
  {
   "cell_type": "code",
   "execution_count": 180,
   "metadata": {},
   "outputs": [
    {
     "data": {
      "image/png": "[encoded data removed]",
      "text/plain": [
       "<Figure size 432x288 with 1 Axes>"
      ]
     },
     "metadata": {
      "needs_background": "light"
     },
     "output_type": "display_data"
    }
   ],
   "source": [
    "plt.cla()\n",
    "plt.plot(a_agg, c='b', label='low-ed') # low education\n",
    "plt.plot(b_agg, c='r', label='high-ed') #\n",
    "plt.legend()\n",
    "plt.show()"
   ]
  },
  {
   "cell_type": "code",
   "execution_count": 181,
   "metadata": {},
   "outputs": [],
   "source": [
    "a_agg_2 = np.zeros(19)\n",
    "b_agg_2 = np.zeros(19)\n",
    "\n",
    "for i in range(1000):\n",
    "    a, b = tryout_arr(Xo, seed=i)\n",
    "    a_agg_2 += a\n",
    "    b_agg_2 += b\n"
   ]
  },
  {
   "cell_type": "code",
   "execution_count": 183,
   "metadata": {},
   "outputs": [
    {
     "data": {
      "image/png": "[encoded data removed]",
      "text/plain": [
       "<Figure size 432x288 with 1 Axes>"
      ]
     },
     "metadata": {
      "needs_background": "light"
     },
     "output_type": "display_data"
    }
   ],
   "source": [
    "plt.cla()\n",
    "plt.plot(a_agg_2, c='b', label='low-ed') # low education\n",
    "plt.plot(b_agg_2, c='r', label='high-ed') #\n",
    "plt.legend()\n",
    "plt.show()"
   ]
  },
  {
   "cell_type": "markdown",
   "metadata": {},
   "source": [
    "We can hence confirm that the difference in RE of low and high education is due to nothing other than more representation in the dataset. This is hardly a matter of unfairness as illustrated by Samadi et al.\n"
   ]
  },
  {
   "cell_type": "markdown",
   "metadata": {},
   "source": [
    "<img width=\"400\" src=\"https://d1yn1kh78jj1rr.cloudfront.net/image/preview/rDtN98Qoishumwih/swirl-design-separator_M1fewjtO_SB_PM.jpg\"/>"
   ]
  },
  {
   "cell_type": "markdown",
   "metadata": {},
   "source": [
    "# Random Forest"
   ]
  },
  {
   "cell_type": "code",
   "execution_count": 9,
   "metadata": {
    "scrolled": true
   },
   "outputs": [
    {
     "data": {
      "text/html": [
       "<div>\n",
       "<style scoped>\n",
       "    .dataframe tbody tr th:only-of-type {\n",
       "        vertical-align: middle;\n",
       "    }\n",
       "\n",
       "    .dataframe tbody tr th {\n",
       "        vertical-align: top;\n",
       "    }\n",
       "\n",
       "    .dataframe thead th {\n",
       "        text-align: right;\n",
       "    }\n",
       "</style>\n",
       "<table border=\"1\" class=\"dataframe\">\n",
       "  <thead>\n",
       "    <tr style=\"text-align: right;\">\n",
       "      <th></th>\n",
       "      <th>ID</th>\n",
       "      <th>LIMIT_BAL</th>\n",
       "      <th>SEX</th>\n",
       "      <th>EDUCATION</th>\n",
       "      <th>MARRIAGE</th>\n",
       "      <th>AGE</th>\n",
       "      <th>PAY_0</th>\n",
       "      <th>PAY_2</th>\n",
       "      <th>PAY_3</th>\n",
       "      <th>PAY_4</th>\n",
       "      <th>...</th>\n",
       "      <th>BILL_AMT4</th>\n",
       "      <th>BILL_AMT5</th>\n",
       "      <th>BILL_AMT6</th>\n",
       "      <th>PAY_AMT1</th>\n",
       "      <th>PAY_AMT2</th>\n",
       "      <th>PAY_AMT3</th>\n",
       "      <th>PAY_AMT4</th>\n",
       "      <th>PAY_AMT5</th>\n",
       "      <th>PAY_AMT6</th>\n",
       "      <th>TARGET</th>\n",
       "    </tr>\n",
       "  </thead>\n",
       "  <tbody>\n",
       "    <tr>\n",
       "      <th>0</th>\n",
       "      <td>1</td>\n",
       "      <td>20000</td>\n",
       "      <td>2</td>\n",
       "      <td>2</td>\n",
       "      <td>1</td>\n",
       "      <td>24</td>\n",
       "      <td>2</td>\n",
       "      <td>2</td>\n",
       "      <td>-1</td>\n",
       "      <td>-1</td>\n",
       "      <td>...</td>\n",
       "      <td>0</td>\n",
       "      <td>0</td>\n",
       "      <td>0</td>\n",
       "      <td>0</td>\n",
       "      <td>689</td>\n",
       "      <td>0</td>\n",
       "      <td>0</td>\n",
       "      <td>0</td>\n",
       "      <td>0</td>\n",
       "      <td>1</td>\n",
       "    </tr>\n",
       "    <tr>\n",
       "      <th>1</th>\n",
       "      <td>2</td>\n",
       "      <td>120000</td>\n",
       "      <td>2</td>\n",
       "      <td>2</td>\n",
       "      <td>2</td>\n",
       "      <td>26</td>\n",
       "      <td>-1</td>\n",
       "      <td>2</td>\n",
       "      <td>0</td>\n",
       "      <td>0</td>\n",
       "      <td>...</td>\n",
       "      <td>3272</td>\n",
       "      <td>3455</td>\n",
       "      <td>3261</td>\n",
       "      <td>0</td>\n",
       "      <td>1000</td>\n",
       "      <td>1000</td>\n",
       "      <td>1000</td>\n",
       "      <td>0</td>\n",
       "      <td>2000</td>\n",
       "      <td>1</td>\n",
       "    </tr>\n",
       "    <tr>\n",
       "      <th>2</th>\n",
       "      <td>3</td>\n",
       "      <td>90000</td>\n",
       "      <td>2</td>\n",
       "      <td>2</td>\n",
       "      <td>2</td>\n",
       "      <td>34</td>\n",
       "      <td>0</td>\n",
       "      <td>0</td>\n",
       "      <td>0</td>\n",
       "      <td>0</td>\n",
       "      <td>...</td>\n",
       "      <td>14331</td>\n",
       "      <td>14948</td>\n",
       "      <td>15549</td>\n",
       "      <td>1518</td>\n",
       "      <td>1500</td>\n",
       "      <td>1000</td>\n",
       "      <td>1000</td>\n",
       "      <td>1000</td>\n",
       "      <td>5000</td>\n",
       "      <td>0</td>\n",
       "    </tr>\n",
       "    <tr>\n",
       "      <th>3</th>\n",
       "      <td>4</td>\n",
       "      <td>50000</td>\n",
       "      <td>2</td>\n",
       "      <td>2</td>\n",
       "      <td>1</td>\n",
       "      <td>37</td>\n",
       "      <td>0</td>\n",
       "      <td>0</td>\n",
       "      <td>0</td>\n",
       "      <td>0</td>\n",
       "      <td>...</td>\n",
       "      <td>28314</td>\n",
       "      <td>28959</td>\n",
       "      <td>29547</td>\n",
       "      <td>2000</td>\n",
       "      <td>2019</td>\n",
       "      <td>1200</td>\n",
       "      <td>1100</td>\n",
       "      <td>1069</td>\n",
       "      <td>1000</td>\n",
       "      <td>0</td>\n",
       "    </tr>\n",
       "    <tr>\n",
       "      <th>4</th>\n",
       "      <td>5</td>\n",
       "      <td>50000</td>\n",
       "      <td>1</td>\n",
       "      <td>2</td>\n",
       "      <td>1</td>\n",
       "      <td>57</td>\n",
       "      <td>-1</td>\n",
       "      <td>0</td>\n",
       "      <td>-1</td>\n",
       "      <td>0</td>\n",
       "      <td>...</td>\n",
       "      <td>20940</td>\n",
       "      <td>19146</td>\n",
       "      <td>19131</td>\n",
       "      <td>2000</td>\n",
       "      <td>36681</td>\n",
       "      <td>10000</td>\n",
       "      <td>9000</td>\n",
       "      <td>689</td>\n",
       "      <td>679</td>\n",
       "      <td>0</td>\n",
       "    </tr>\n",
       "    <tr>\n",
       "      <th>...</th>\n",
       "      <td>...</td>\n",
       "      <td>...</td>\n",
       "      <td>...</td>\n",
       "      <td>...</td>\n",
       "      <td>...</td>\n",
       "      <td>...</td>\n",
       "      <td>...</td>\n",
       "      <td>...</td>\n",
       "      <td>...</td>\n",
       "      <td>...</td>\n",
       "      <td>...</td>\n",
       "      <td>...</td>\n",
       "      <td>...</td>\n",
       "      <td>...</td>\n",
       "      <td>...</td>\n",
       "      <td>...</td>\n",
       "      <td>...</td>\n",
       "      <td>...</td>\n",
       "      <td>...</td>\n",
       "      <td>...</td>\n",
       "      <td>...</td>\n",
       "    </tr>\n",
       "    <tr>\n",
       "      <th>29995</th>\n",
       "      <td>29996</td>\n",
       "      <td>220000</td>\n",
       "      <td>1</td>\n",
       "      <td>3</td>\n",
       "      <td>1</td>\n",
       "      <td>39</td>\n",
       "      <td>0</td>\n",
       "      <td>0</td>\n",
       "      <td>0</td>\n",
       "      <td>0</td>\n",
       "      <td>...</td>\n",
       "      <td>88004</td>\n",
       "      <td>31237</td>\n",
       "      <td>15980</td>\n",
       "      <td>8500</td>\n",
       "      <td>20000</td>\n",
       "      <td>5003</td>\n",
       "      <td>3047</td>\n",
       "      <td>5000</td>\n",
       "      <td>1000</td>\n",
       "      <td>0</td>\n",
       "    </tr>\n",
       "    <tr>\n",
       "      <th>29996</th>\n",
       "      <td>29997</td>\n",
       "      <td>150000</td>\n",
       "      <td>1</td>\n",
       "      <td>3</td>\n",
       "      <td>2</td>\n",
       "      <td>43</td>\n",
       "      <td>-1</td>\n",
       "      <td>-1</td>\n",
       "      <td>-1</td>\n",
       "      <td>-1</td>\n",
       "      <td>...</td>\n",
       "      <td>8979</td>\n",
       "      <td>5190</td>\n",
       "      <td>0</td>\n",
       "      <td>1837</td>\n",
       "      <td>3526</td>\n",
       "      <td>8998</td>\n",
       "      <td>129</td>\n",
       "      <td>0</td>\n",
       "      <td>0</td>\n",
       "      <td>0</td>\n",
       "    </tr>\n",
       "    <tr>\n",
       "      <th>29997</th>\n",
       "      <td>29998</td>\n",
       "      <td>30000</td>\n",
       "      <td>1</td>\n",
       "      <td>2</td>\n",
       "      <td>2</td>\n",
       "      <td>37</td>\n",
       "      <td>4</td>\n",
       "      <td>3</td>\n",
       "      <td>2</td>\n",
       "      <td>-1</td>\n",
       "      <td>...</td>\n",
       "      <td>20878</td>\n",
       "      <td>20582</td>\n",
       "      <td>19357</td>\n",
       "      <td>0</td>\n",
       "      <td>0</td>\n",
       "      <td>22000</td>\n",
       "      <td>4200</td>\n",
       "      <td>2000</td>\n",
       "      <td>3100</td>\n",
       "      <td>1</td>\n",
       "    </tr>\n",
       "    <tr>\n",
       "      <th>29998</th>\n",
       "      <td>29999</td>\n",
       "      <td>80000</td>\n",
       "      <td>1</td>\n",
       "      <td>3</td>\n",
       "      <td>1</td>\n",
       "      <td>41</td>\n",
       "      <td>1</td>\n",
       "      <td>-1</td>\n",
       "      <td>0</td>\n",
       "      <td>0</td>\n",
       "      <td>...</td>\n",
       "      <td>52774</td>\n",
       "      <td>11855</td>\n",
       "      <td>48944</td>\n",
       "      <td>85900</td>\n",
       "      <td>3409</td>\n",
       "      <td>1178</td>\n",
       "      <td>1926</td>\n",
       "      <td>52964</td>\n",
       "      <td>1804</td>\n",
       "      <td>1</td>\n",
       "    </tr>\n",
       "    <tr>\n",
       "      <th>29999</th>\n",
       "      <td>30000</td>\n",
       "      <td>50000</td>\n",
       "      <td>1</td>\n",
       "      <td>2</td>\n",
       "      <td>1</td>\n",
       "      <td>46</td>\n",
       "      <td>0</td>\n",
       "      <td>0</td>\n",
       "      <td>0</td>\n",
       "      <td>0</td>\n",
       "      <td>...</td>\n",
       "      <td>36535</td>\n",
       "      <td>32428</td>\n",
       "      <td>15313</td>\n",
       "      <td>2078</td>\n",
       "      <td>1800</td>\n",
       "      <td>1430</td>\n",
       "      <td>1000</td>\n",
       "      <td>1000</td>\n",
       "      <td>1000</td>\n",
       "      <td>1</td>\n",
       "    </tr>\n",
       "  </tbody>\n",
       "</table>\n",
       "<p>30000 rows × 25 columns</p>\n",
       "</div>"
      ],
      "text/plain": [
       "          ID  LIMIT_BAL  SEX  EDUCATION  MARRIAGE  AGE  PAY_0  PAY_2  PAY_3  \\\n",
       "0          1      20000    2          2         1   24      2      2     -1   \n",
       "1          2     120000    2          2         2   26     -1      2      0   \n",
       "2          3      90000    2          2         2   34      0      0      0   \n",
       "3          4      50000    2          2         1   37      0      0      0   \n",
       "4          5      50000    1          2         1   57     -1      0     -1   \n",
       "...      ...        ...  ...        ...       ...  ...    ...    ...    ...   \n",
       "29995  29996     220000    1          3         1   39      0      0      0   \n",
       "29996  29997     150000    1          3         2   43     -1     -1     -1   \n",
       "29997  29998      30000    1          2         2   37      4      3      2   \n",
       "29998  29999      80000    1          3         1   41      1     -1      0   \n",
       "29999  30000      50000    1          2         1   46      0      0      0   \n",
       "\n",
       "       PAY_4  ...  BILL_AMT4  BILL_AMT5  BILL_AMT6  PAY_AMT1  PAY_AMT2  \\\n",
       "0         -1  ...          0          0          0         0       689   \n",
       "1          0  ...       3272       3455       3261         0      1000   \n",
       "2          0  ...      14331      14948      15549      1518      1500   \n",
       "3          0  ...      28314      28959      29547      2000      2019   \n",
       "4          0  ...      20940      19146      19131      2000     36681   \n",
       "...      ...  ...        ...        ...        ...       ...       ...   \n",
       "29995      0  ...      88004      31237      15980      8500     20000   \n",
       "29996     -1  ...       8979       5190          0      1837      3526   \n",
       "29997     -1  ...      20878      20582      19357         0         0   \n",
       "29998      0  ...      52774      11855      48944     85900      3409   \n",
       "29999      0  ...      36535      32428      15313      2078      1800   \n",
       "\n",
       "       PAY_AMT3  PAY_AMT4  PAY_AMT5  PAY_AMT6  TARGET  \n",
       "0             0         0         0         0       1  \n",
       "1          1000      1000         0      2000       1  \n",
       "2          1000      1000      1000      5000       0  \n",
       "3          1200      1100      1069      1000       0  \n",
       "4         10000      9000       689       679       0  \n",
       "...         ...       ...       ...       ...     ...  \n",
       "29995      5003      3047      5000      1000       0  \n",
       "29996      8998       129         0         0       0  \n",
       "29997     22000      4200      2000      3100       1  \n",
       "29998      1178      1926     52964      1804       1  \n",
       "29999      1430      1000      1000      1000       1  \n",
       "\n",
       "[30000 rows x 25 columns]"
      ]
     },
     "execution_count": 9,
     "metadata": {},
     "output_type": "execute_result"
    }
   ],
   "source": [
    "Xo"
   ]
  },
  {
   "cell_type": "code",
   "execution_count": 10,
   "metadata": {},
   "outputs": [],
   "source": [
    "Xo_rnd = sklearn.utils.shuffle(Xo)"
   ]
  },
  {
   "cell_type": "markdown",
   "metadata": {},
   "source": [
    "split into test and train"
   ]
  },
  {
   "cell_type": "code",
   "execution_count": 13,
   "metadata": {
    "scrolled": true
   },
   "outputs": [],
   "source": [
    "test_cut = 2 * Xo_rnd.shape[0] // 3\n",
    "train_set = Xo_rnd.iloc[:test_cut,:]\n",
    "test_set = Xo_rnd.iloc[test_cut:,:]\n",
    "\n",
    "is_lowEd = lambda x: (x.EDUCATION == EDU_OTHER) | (x.EDUCATION == EDU_HIGHSCHOOL)\n",
    "is_highEd = lambda x: (x.EDUCATION == EDU_GRAD) | (x.EDUCATION == EDU_UNIVERSITY)\n",
    "\n",
    "test_set_lowEd = test_set[is_lowEd(test_set)]\n",
    "test_set_highEd = test_set[is_highEd(test_set)]\n"
   ]
  },
  {
   "cell_type": "code",
   "execution_count": 14,
   "metadata": {},
   "outputs": [],
   "source": [
    "x_of = lambda x: x.drop([\"ID\", \"EDUCATION\", \"TARGET\"], axis=1)\n",
    "y_of = lambda x: x[\"TARGET\"]\n",
    "\n",
    "\n",
    "X_train, y_train = x_of(train_set), y_of(train_set)\n",
    "X_test_lowEd, y_test_lowEd = x_of(test_set_lowEd), y_of(test_set_lowEd)\n",
    "X_test_highEd, y_test_highEd = x_of(test_set_highEd), y_of(test_set_highEd)"
   ]
  },
  {
   "cell_type": "markdown",
   "metadata": {},
   "source": [
    "Train random forest"
   ]
  },
  {
   "cell_type": "code",
   "execution_count": 16,
   "metadata": {},
   "outputs": [],
   "source": [
    "clf = RandomForestClassifier(n_estimators=100)\n",
    "clf.fit(X_train, y_train)"
   ]
  },
  {
   "cell_type": "markdown",
   "metadata": {},
   "source": [
    "Validate on lowEd and highEd"
   ]
  },
  {
   "cell_type": "code",
   "execution_count": 18,
   "metadata": {},
   "outputs": [],
   "source": [
    "y_pred_lowEd = clf.predict(X_test_lowEd)\n",
    "y_pred_highEd = clf.predict(X_test_highEd)"
   ]
  },
  {
   "cell_type": "code",
   "execution_count": 19,
   "metadata": {},
   "outputs": [
    {
     "data": {
      "text/plain": [
       "0.7820665083135392"
      ]
     },
     "execution_count": 19,
     "metadata": {},
     "output_type": "execute_result"
    }
   ],
   "source": [
    "np.average(y_pred_lowEd == y_test_lowEd)"
   ]
  },
  {
   "cell_type": "code",
   "execution_count": 21,
   "metadata": {},
   "outputs": [
    {
     "data": {
      "text/plain": [
       "0.817117776152158"
      ]
     },
     "execution_count": 21,
     "metadata": {},
     "output_type": "execute_result"
    }
   ],
   "source": [
    "np.average(y_pred_highEd == y_test_highEd)"
   ]
  },
  {
   "cell_type": "code",
   "execution_count": 29,
   "metadata": {},
   "outputs": [],
   "source": [
    "def run_rf_experiment(Xo):\n",
    "    \n",
    "    Xo_rnd = sklearn.utils.shuffle(Xo)\n",
    "    test_cut = 2 * Xo_rnd.shape[0] // 3\n",
    "    train_set = Xo_rnd.iloc[:test_cut,:]\n",
    "    test_set = Xo_rnd.iloc[test_cut:,:]\n",
    "\n",
    "    is_lowEd = lambda x: (x.EDUCATION == EDU_OTHER) | (x.EDUCATION == EDU_HIGHSCHOOL)\n",
    "    is_highEd = lambda x: (x.EDUCATION == EDU_GRAD) | (x.EDUCATION == EDU_UNIVERSITY)\n",
    "\n",
    "    test_set_lowEd = test_set[is_lowEd(test_set)]\n",
    "    test_set_highEd = test_set[is_highEd(test_set)]\n",
    "    \n",
    "    x_of = lambda x: x.drop([\"ID\", \"EDUCATION\", \"TARGET\"], axis=1)\n",
    "    y_of = lambda x: x[\"TARGET\"]\n",
    "\n",
    "    X_train, y_train = x_of(train_set), y_of(train_set)\n",
    "    X_test_lowEd, y_test_lowEd = x_of(test_set_lowEd), y_of(test_set_lowEd)\n",
    "    X_test_highEd, y_test_highEd = x_of(test_set_highEd), y_of(test_set_highEd)\n",
    "    \n",
    "    clf = RandomForestClassifier(n_estimators=100)\n",
    "    clf.fit(X_train, y_train)\n",
    "    \n",
    "    y_pred_lowEd = clf.predict(X_test_lowEd)\n",
    "    y_pred_highEd = clf.predict(X_test_highEd)\n",
    "    \n",
    "    history = (y_pred_lowEd, y_pred_highEd, y_test_lowEd, y_test_highEd)\n",
    "    \n",
    "    return np.average(y_pred_lowEd == y_test_lowEd), np.average(y_pred_highEd == y_test_highEd), history"
   ]
  },
  {
   "cell_type": "code",
   "execution_count": 30,
   "metadata": {},
   "outputs": [],
   "source": [
    "exp_results = [run_rf_experiment(Xo) for _ in range(20)]"
   ]
  },
  {
   "cell_type": "code",
   "execution_count": 50,
   "metadata": {},
   "outputs": [],
   "source": [
    "avg_acc_lowEd = np.average([x[0] for x in exp_results])\n",
    "avg_acc_highEd = np.average([x[1] for x in exp_results])"
   ]
  },
  {
   "cell_type": "code",
   "execution_count": 46,
   "metadata": {},
   "outputs": [],
   "source": [
    "fpr = lambda actual, pred: np.average((actual == 0) & (pred == 1))\n",
    "fnr = lambda actual, pred: np.average((actual == 1) & (pred == 0))"
   ]
  },
  {
   "cell_type": "code",
   "execution_count": 47,
   "metadata": {},
   "outputs": [],
   "source": [
    "avg_fpr_lowEd = np.average([fpr(y_test_lowEd, y_pred_lowEd) for y_pred_lowEd, _, y_test_lowEd, _ in (x[2] for x in exp_results)])\n",
    "avg_fnr_lowEd = np.average([fnr(y_test_lowEd, y_pred_lowEd) for y_pred_lowEd, _, y_test_lowEd, _ in (x[2] for x in exp_results)])\n",
    "\n",
    "avg_fpr_highEd = np.average([fpr(y_test_highEd, y_pred_highEd) for _, y_pred_highEd, _, y_test_highEd in (x[2] for x in exp_results)])\n",
    "avg_fnr_highEd = np.average([fnr(y_test_highEd, y_pred_highEd) for _, y_pred_highEd, _, y_test_highEd in (x[2] for x in exp_results)])\n"
   ]
  },
  {
   "cell_type": "code",
   "execution_count": 201,
   "metadata": {},
   "outputs": [],
   "source": [
    "def dump(*args):\n",
    "    for i in args:\n",
    "        print(i, \"%.02f%%\" % (eval(i) * 100))"
   ]
  },
  {
   "cell_type": "code",
   "execution_count": 56,
   "metadata": {},
   "outputs": [
    {
     "name": "stdout",
     "output_type": "stream",
     "text": [
      "avg_fpr_lowEd 5.82%\n",
      "avg_fnr_lowEd 14.86%\n",
      "avg_fpr_highEd 4.23%\n",
      "avg_fnr_highEd 13.79%\n",
      "avg_acc_lowEd 79.32%\n",
      "avg_acc_highEd 81.98%\n"
     ]
    }
   ],
   "source": [
    "dump(\"avg_fpr_lowEd\", \"avg_fnr_lowEd\", \"avg_fpr_highEd\", \"avg_fnr_highEd\", \"avg_acc_lowEd\", \"avg_acc_highEd\")"
   ]
  },
  {
   "cell_type": "code",
   "execution_count": 33,
   "metadata": {},
   "outputs": [],
   "source": [
    "y_pred_lowEd, y_pred_highEd, y_test_lowEd, y_test_highEd = exp_results[0][2]"
   ]
  },
  {
   "cell_type": "code",
   "execution_count": 36,
   "metadata": {},
   "outputs": [],
   "source": [
    "y_actual, y_pred = y_test_lowEd, y_pred_lowEd"
   ]
  },
  {
   "cell_type": "code",
   "execution_count": 43,
   "metadata": {},
   "outputs": [
    {
     "data": {
      "text/plain": [
       "0.06005665722379604"
      ]
     },
     "execution_count": 43,
     "metadata": {},
     "output_type": "execute_result"
    }
   ],
   "source": [
    "np.average((y_actual == 0) & (y_pred == 1))"
   ]
  },
  {
   "cell_type": "code",
   "execution_count": 45,
   "metadata": {},
   "outputs": [
    {
     "data": {
      "text/plain": [
       "0.14220963172804532"
      ]
     },
     "execution_count": 45,
     "metadata": {},
     "output_type": "execute_result"
    }
   ],
   "source": [
    "np.average((y_actual == 1) & (y_pred == 0))"
   ]
  },
  {
   "cell_type": "markdown",
   "metadata": {},
   "source": [
    "# PCA - RandomForest "
   ]
  },
  {
   "cell_type": "code",
   "execution_count": 21,
   "metadata": {
    "scrolled": false
   },
   "outputs": [
    {
     "data": {
      "text/html": [
       "<div>\n",
       "<style scoped>\n",
       "    .dataframe tbody tr th:only-of-type {\n",
       "        vertical-align: middle;\n",
       "    }\n",
       "\n",
       "    .dataframe tbody tr th {\n",
       "        vertical-align: top;\n",
       "    }\n",
       "\n",
       "    .dataframe thead th {\n",
       "        text-align: right;\n",
       "    }\n",
       "</style>\n",
       "<table border=\"1\" class=\"dataframe\">\n",
       "  <thead>\n",
       "    <tr style=\"text-align: right;\">\n",
       "      <th></th>\n",
       "      <th>ID</th>\n",
       "      <th>LIMIT_BAL</th>\n",
       "      <th>SEX</th>\n",
       "      <th>EDUCATION</th>\n",
       "      <th>MARRIAGE</th>\n",
       "      <th>AGE</th>\n",
       "      <th>PAY_0</th>\n",
       "      <th>PAY_2</th>\n",
       "      <th>PAY_3</th>\n",
       "      <th>PAY_4</th>\n",
       "      <th>...</th>\n",
       "      <th>BILL_AMT4</th>\n",
       "      <th>BILL_AMT5</th>\n",
       "      <th>BILL_AMT6</th>\n",
       "      <th>PAY_AMT1</th>\n",
       "      <th>PAY_AMT2</th>\n",
       "      <th>PAY_AMT3</th>\n",
       "      <th>PAY_AMT4</th>\n",
       "      <th>PAY_AMT5</th>\n",
       "      <th>PAY_AMT6</th>\n",
       "      <th>TARGET</th>\n",
       "    </tr>\n",
       "  </thead>\n",
       "  <tbody>\n",
       "    <tr>\n",
       "      <th>0</th>\n",
       "      <td>1</td>\n",
       "      <td>20000</td>\n",
       "      <td>2</td>\n",
       "      <td>2</td>\n",
       "      <td>1</td>\n",
       "      <td>24</td>\n",
       "      <td>2</td>\n",
       "      <td>2</td>\n",
       "      <td>-1</td>\n",
       "      <td>-1</td>\n",
       "      <td>...</td>\n",
       "      <td>0</td>\n",
       "      <td>0</td>\n",
       "      <td>0</td>\n",
       "      <td>0</td>\n",
       "      <td>689</td>\n",
       "      <td>0</td>\n",
       "      <td>0</td>\n",
       "      <td>0</td>\n",
       "      <td>0</td>\n",
       "      <td>1</td>\n",
       "    </tr>\n",
       "    <tr>\n",
       "      <th>1</th>\n",
       "      <td>2</td>\n",
       "      <td>120000</td>\n",
       "      <td>2</td>\n",
       "      <td>2</td>\n",
       "      <td>2</td>\n",
       "      <td>26</td>\n",
       "      <td>-1</td>\n",
       "      <td>2</td>\n",
       "      <td>0</td>\n",
       "      <td>0</td>\n",
       "      <td>...</td>\n",
       "      <td>3272</td>\n",
       "      <td>3455</td>\n",
       "      <td>3261</td>\n",
       "      <td>0</td>\n",
       "      <td>1000</td>\n",
       "      <td>1000</td>\n",
       "      <td>1000</td>\n",
       "      <td>0</td>\n",
       "      <td>2000</td>\n",
       "      <td>1</td>\n",
       "    </tr>\n",
       "    <tr>\n",
       "      <th>2</th>\n",
       "      <td>3</td>\n",
       "      <td>90000</td>\n",
       "      <td>2</td>\n",
       "      <td>2</td>\n",
       "      <td>2</td>\n",
       "      <td>34</td>\n",
       "      <td>0</td>\n",
       "      <td>0</td>\n",
       "      <td>0</td>\n",
       "      <td>0</td>\n",
       "      <td>...</td>\n",
       "      <td>14331</td>\n",
       "      <td>14948</td>\n",
       "      <td>15549</td>\n",
       "      <td>1518</td>\n",
       "      <td>1500</td>\n",
       "      <td>1000</td>\n",
       "      <td>1000</td>\n",
       "      <td>1000</td>\n",
       "      <td>5000</td>\n",
       "      <td>0</td>\n",
       "    </tr>\n",
       "    <tr>\n",
       "      <th>3</th>\n",
       "      <td>4</td>\n",
       "      <td>50000</td>\n",
       "      <td>2</td>\n",
       "      <td>2</td>\n",
       "      <td>1</td>\n",
       "      <td>37</td>\n",
       "      <td>0</td>\n",
       "      <td>0</td>\n",
       "      <td>0</td>\n",
       "      <td>0</td>\n",
       "      <td>...</td>\n",
       "      <td>28314</td>\n",
       "      <td>28959</td>\n",
       "      <td>29547</td>\n",
       "      <td>2000</td>\n",
       "      <td>2019</td>\n",
       "      <td>1200</td>\n",
       "      <td>1100</td>\n",
       "      <td>1069</td>\n",
       "      <td>1000</td>\n",
       "      <td>0</td>\n",
       "    </tr>\n",
       "    <tr>\n",
       "      <th>4</th>\n",
       "      <td>5</td>\n",
       "      <td>50000</td>\n",
       "      <td>1</td>\n",
       "      <td>2</td>\n",
       "      <td>1</td>\n",
       "      <td>57</td>\n",
       "      <td>-1</td>\n",
       "      <td>0</td>\n",
       "      <td>-1</td>\n",
       "      <td>0</td>\n",
       "      <td>...</td>\n",
       "      <td>20940</td>\n",
       "      <td>19146</td>\n",
       "      <td>19131</td>\n",
       "      <td>2000</td>\n",
       "      <td>36681</td>\n",
       "      <td>10000</td>\n",
       "      <td>9000</td>\n",
       "      <td>689</td>\n",
       "      <td>679</td>\n",
       "      <td>0</td>\n",
       "    </tr>\n",
       "    <tr>\n",
       "      <th>...</th>\n",
       "      <td>...</td>\n",
       "      <td>...</td>\n",
       "      <td>...</td>\n",
       "      <td>...</td>\n",
       "      <td>...</td>\n",
       "      <td>...</td>\n",
       "      <td>...</td>\n",
       "      <td>...</td>\n",
       "      <td>...</td>\n",
       "      <td>...</td>\n",
       "      <td>...</td>\n",
       "      <td>...</td>\n",
       "      <td>...</td>\n",
       "      <td>...</td>\n",
       "      <td>...</td>\n",
       "      <td>...</td>\n",
       "      <td>...</td>\n",
       "      <td>...</td>\n",
       "      <td>...</td>\n",
       "      <td>...</td>\n",
       "      <td>...</td>\n",
       "    </tr>\n",
       "    <tr>\n",
       "      <th>29995</th>\n",
       "      <td>29996</td>\n",
       "      <td>220000</td>\n",
       "      <td>1</td>\n",
       "      <td>3</td>\n",
       "      <td>1</td>\n",
       "      <td>39</td>\n",
       "      <td>0</td>\n",
       "      <td>0</td>\n",
       "      <td>0</td>\n",
       "      <td>0</td>\n",
       "      <td>...</td>\n",
       "      <td>88004</td>\n",
       "      <td>31237</td>\n",
       "      <td>15980</td>\n",
       "      <td>8500</td>\n",
       "      <td>20000</td>\n",
       "      <td>5003</td>\n",
       "      <td>3047</td>\n",
       "      <td>5000</td>\n",
       "      <td>1000</td>\n",
       "      <td>0</td>\n",
       "    </tr>\n",
       "    <tr>\n",
       "      <th>29996</th>\n",
       "      <td>29997</td>\n",
       "      <td>150000</td>\n",
       "      <td>1</td>\n",
       "      <td>3</td>\n",
       "      <td>2</td>\n",
       "      <td>43</td>\n",
       "      <td>-1</td>\n",
       "      <td>-1</td>\n",
       "      <td>-1</td>\n",
       "      <td>-1</td>\n",
       "      <td>...</td>\n",
       "      <td>8979</td>\n",
       "      <td>5190</td>\n",
       "      <td>0</td>\n",
       "      <td>1837</td>\n",
       "      <td>3526</td>\n",
       "      <td>8998</td>\n",
       "      <td>129</td>\n",
       "      <td>0</td>\n",
       "      <td>0</td>\n",
       "      <td>0</td>\n",
       "    </tr>\n",
       "    <tr>\n",
       "      <th>29997</th>\n",
       "      <td>29998</td>\n",
       "      <td>30000</td>\n",
       "      <td>1</td>\n",
       "      <td>2</td>\n",
       "      <td>2</td>\n",
       "      <td>37</td>\n",
       "      <td>4</td>\n",
       "      <td>3</td>\n",
       "      <td>2</td>\n",
       "      <td>-1</td>\n",
       "      <td>...</td>\n",
       "      <td>20878</td>\n",
       "      <td>20582</td>\n",
       "      <td>19357</td>\n",
       "      <td>0</td>\n",
       "      <td>0</td>\n",
       "      <td>22000</td>\n",
       "      <td>4200</td>\n",
       "      <td>2000</td>\n",
       "      <td>3100</td>\n",
       "      <td>1</td>\n",
       "    </tr>\n",
       "    <tr>\n",
       "      <th>29998</th>\n",
       "      <td>29999</td>\n",
       "      <td>80000</td>\n",
       "      <td>1</td>\n",
       "      <td>3</td>\n",
       "      <td>1</td>\n",
       "      <td>41</td>\n",
       "      <td>1</td>\n",
       "      <td>-1</td>\n",
       "      <td>0</td>\n",
       "      <td>0</td>\n",
       "      <td>...</td>\n",
       "      <td>52774</td>\n",
       "      <td>11855</td>\n",
       "      <td>48944</td>\n",
       "      <td>85900</td>\n",
       "      <td>3409</td>\n",
       "      <td>1178</td>\n",
       "      <td>1926</td>\n",
       "      <td>52964</td>\n",
       "      <td>1804</td>\n",
       "      <td>1</td>\n",
       "    </tr>\n",
       "    <tr>\n",
       "      <th>29999</th>\n",
       "      <td>30000</td>\n",
       "      <td>50000</td>\n",
       "      <td>1</td>\n",
       "      <td>2</td>\n",
       "      <td>1</td>\n",
       "      <td>46</td>\n",
       "      <td>0</td>\n",
       "      <td>0</td>\n",
       "      <td>0</td>\n",
       "      <td>0</td>\n",
       "      <td>...</td>\n",
       "      <td>36535</td>\n",
       "      <td>32428</td>\n",
       "      <td>15313</td>\n",
       "      <td>2078</td>\n",
       "      <td>1800</td>\n",
       "      <td>1430</td>\n",
       "      <td>1000</td>\n",
       "      <td>1000</td>\n",
       "      <td>1000</td>\n",
       "      <td>1</td>\n",
       "    </tr>\n",
       "  </tbody>\n",
       "</table>\n",
       "<p>30000 rows × 25 columns</p>\n",
       "</div>"
      ],
      "text/plain": [
       "          ID  LIMIT_BAL  SEX  EDUCATION  MARRIAGE  AGE  PAY_0  PAY_2  PAY_3  \\\n",
       "0          1      20000    2          2         1   24      2      2     -1   \n",
       "1          2     120000    2          2         2   26     -1      2      0   \n",
       "2          3      90000    2          2         2   34      0      0      0   \n",
       "3          4      50000    2          2         1   37      0      0      0   \n",
       "4          5      50000    1          2         1   57     -1      0     -1   \n",
       "...      ...        ...  ...        ...       ...  ...    ...    ...    ...   \n",
       "29995  29996     220000    1          3         1   39      0      0      0   \n",
       "29996  29997     150000    1          3         2   43     -1     -1     -1   \n",
       "29997  29998      30000    1          2         2   37      4      3      2   \n",
       "29998  29999      80000    1          3         1   41      1     -1      0   \n",
       "29999  30000      50000    1          2         1   46      0      0      0   \n",
       "\n",
       "       PAY_4  ...  BILL_AMT4  BILL_AMT5  BILL_AMT6  PAY_AMT1  PAY_AMT2  \\\n",
       "0         -1  ...          0          0          0         0       689   \n",
       "1          0  ...       3272       3455       3261         0      1000   \n",
       "2          0  ...      14331      14948      15549      1518      1500   \n",
       "3          0  ...      28314      28959      29547      2000      2019   \n",
       "4          0  ...      20940      19146      19131      2000     36681   \n",
       "...      ...  ...        ...        ...        ...       ...       ...   \n",
       "29995      0  ...      88004      31237      15980      8500     20000   \n",
       "29996     -1  ...       8979       5190          0      1837      3526   \n",
       "29997     -1  ...      20878      20582      19357         0         0   \n",
       "29998      0  ...      52774      11855      48944     85900      3409   \n",
       "29999      0  ...      36535      32428      15313      2078      1800   \n",
       "\n",
       "       PAY_AMT3  PAY_AMT4  PAY_AMT5  PAY_AMT6  TARGET  \n",
       "0             0         0         0         0       1  \n",
       "1          1000      1000         0      2000       1  \n",
       "2          1000      1000      1000      5000       0  \n",
       "3          1200      1100      1069      1000       0  \n",
       "4         10000      9000       689       679       0  \n",
       "...         ...       ...       ...       ...     ...  \n",
       "29995      5003      3047      5000      1000       0  \n",
       "29996      8998       129         0         0       0  \n",
       "29997     22000      4200      2000      3100       1  \n",
       "29998      1178      1926     52964      1804       1  \n",
       "29999      1430      1000      1000      1000       1  \n",
       "\n",
       "[30000 rows x 25 columns]"
      ]
     },
     "execution_count": 21,
     "metadata": {},
     "output_type": "execute_result"
    }
   ],
   "source": [
    "Xo"
   ]
  },
  {
   "cell_type": "code",
   "execution_count": 22,
   "metadata": {
    "scrolled": false
   },
   "outputs": [
    {
     "data": {
      "text/html": [
       "<div>\n",
       "<style scoped>\n",
       "    .dataframe tbody tr th:only-of-type {\n",
       "        vertical-align: middle;\n",
       "    }\n",
       "\n",
       "    .dataframe tbody tr th {\n",
       "        vertical-align: top;\n",
       "    }\n",
       "\n",
       "    .dataframe thead th {\n",
       "        text-align: right;\n",
       "    }\n",
       "</style>\n",
       "<table border=\"1\" class=\"dataframe\">\n",
       "  <thead>\n",
       "    <tr style=\"text-align: right;\">\n",
       "      <th></th>\n",
       "      <th>0</th>\n",
       "      <th>1</th>\n",
       "      <th>2</th>\n",
       "      <th>3</th>\n",
       "      <th>4</th>\n",
       "      <th>5</th>\n",
       "      <th>6</th>\n",
       "      <th>7</th>\n",
       "      <th>8</th>\n",
       "      <th>9</th>\n",
       "      <th>EDUCATION</th>\n",
       "      <th>TARGET</th>\n",
       "    </tr>\n",
       "  </thead>\n",
       "  <tbody>\n",
       "    <tr>\n",
       "      <th>0</th>\n",
       "      <td>-1.894360</td>\n",
       "      <td>-0.880565</td>\n",
       "      <td>-0.646041</td>\n",
       "      <td>-0.364427</td>\n",
       "      <td>0.825343</td>\n",
       "      <td>-0.310963</td>\n",
       "      <td>-0.001634</td>\n",
       "      <td>0.034924</td>\n",
       "      <td>-0.271489</td>\n",
       "      <td>0.242224</td>\n",
       "      <td>2</td>\n",
       "      <td>1</td>\n",
       "    </tr>\n",
       "    <tr>\n",
       "      <th>1</th>\n",
       "      <td>-0.771761</td>\n",
       "      <td>-2.109515</td>\n",
       "      <td>0.705182</td>\n",
       "      <td>-1.062620</td>\n",
       "      <td>0.798236</td>\n",
       "      <td>-0.054338</td>\n",
       "      <td>0.120346</td>\n",
       "      <td>-0.175394</td>\n",
       "      <td>0.159669</td>\n",
       "      <td>0.142466</td>\n",
       "      <td>2</td>\n",
       "      <td>1</td>\n",
       "    </tr>\n",
       "    <tr>\n",
       "      <th>2</th>\n",
       "      <td>-0.853065</td>\n",
       "      <td>-1.060003</td>\n",
       "      <td>0.167405</td>\n",
       "      <td>-0.714842</td>\n",
       "      <td>0.626060</td>\n",
       "      <td>-0.043981</td>\n",
       "      <td>-0.113429</td>\n",
       "      <td>-0.107928</td>\n",
       "      <td>0.062377</td>\n",
       "      <td>0.046088</td>\n",
       "      <td>2</td>\n",
       "      <td>0</td>\n",
       "    </tr>\n",
       "    <tr>\n",
       "      <th>3</th>\n",
       "      <td>-0.203111</td>\n",
       "      <td>-0.784055</td>\n",
       "      <td>-0.526760</td>\n",
       "      <td>0.622562</td>\n",
       "      <td>1.020218</td>\n",
       "      <td>0.199193</td>\n",
       "      <td>-0.046492</td>\n",
       "      <td>0.087299</td>\n",
       "      <td>-0.085278</td>\n",
       "      <td>0.021001</td>\n",
       "      <td>2</td>\n",
       "      <td>0</td>\n",
       "    </tr>\n",
       "    <tr>\n",
       "      <th>4</th>\n",
       "      <td>-0.847140</td>\n",
       "      <td>-0.030879</td>\n",
       "      <td>0.348806</td>\n",
       "      <td>2.558250</td>\n",
       "      <td>-1.011589</td>\n",
       "      <td>1.027482</td>\n",
       "      <td>0.141751</td>\n",
       "      <td>0.548849</td>\n",
       "      <td>-0.301955</td>\n",
       "      <td>1.035960</td>\n",
       "      <td>2</td>\n",
       "      <td>0</td>\n",
       "    </tr>\n",
       "    <tr>\n",
       "      <th>...</th>\n",
       "      <td>...</td>\n",
       "      <td>...</td>\n",
       "      <td>...</td>\n",
       "      <td>...</td>\n",
       "      <td>...</td>\n",
       "      <td>...</td>\n",
       "      <td>...</td>\n",
       "      <td>...</td>\n",
       "      <td>...</td>\n",
       "      <td>...</td>\n",
       "      <td>...</td>\n",
       "      <td>...</td>\n",
       "    </tr>\n",
       "    <tr>\n",
       "      <th>29995</th>\n",
       "      <td>2.496777</td>\n",
       "      <td>0.828529</td>\n",
       "      <td>-0.974059</td>\n",
       "      <td>0.834042</td>\n",
       "      <td>-1.013579</td>\n",
       "      <td>0.555634</td>\n",
       "      <td>-0.753341</td>\n",
       "      <td>0.396866</td>\n",
       "      <td>-0.479821</td>\n",
       "      <td>0.208317</td>\n",
       "      <td>3</td>\n",
       "      <td>0</td>\n",
       "    </tr>\n",
       "    <tr>\n",
       "      <th>29996</th>\n",
       "      <td>-1.802925</td>\n",
       "      <td>0.088260</td>\n",
       "      <td>0.118167</td>\n",
       "      <td>0.153174</td>\n",
       "      <td>-1.387879</td>\n",
       "      <td>0.562522</td>\n",
       "      <td>0.134437</td>\n",
       "      <td>0.073367</td>\n",
       "      <td>0.466446</td>\n",
       "      <td>0.086797</td>\n",
       "      <td>3</td>\n",
       "      <td>0</td>\n",
       "    </tr>\n",
       "    <tr>\n",
       "      <th>29997</th>\n",
       "      <td>0.346745</td>\n",
       "      <td>-3.311918</td>\n",
       "      <td>0.745085</td>\n",
       "      <td>0.134661</td>\n",
       "      <td>-1.498269</td>\n",
       "      <td>-0.293887</td>\n",
       "      <td>0.581490</td>\n",
       "      <td>-0.225381</td>\n",
       "      <td>0.797873</td>\n",
       "      <td>0.170843</td>\n",
       "      <td>2</td>\n",
       "      <td>1</td>\n",
       "    </tr>\n",
       "    <tr>\n",
       "      <th>29998</th>\n",
       "      <td>0.623677</td>\n",
       "      <td>0.865436</td>\n",
       "      <td>2.176102</td>\n",
       "      <td>1.591926</td>\n",
       "      <td>-1.021344</td>\n",
       "      <td>-0.310594</td>\n",
       "      <td>-1.149540</td>\n",
       "      <td>2.213309</td>\n",
       "      <td>-1.274266</td>\n",
       "      <td>-4.265620</td>\n",
       "      <td>3</td>\n",
       "      <td>1</td>\n",
       "    </tr>\n",
       "    <tr>\n",
       "      <th>29999</th>\n",
       "      <td>-0.152608</td>\n",
       "      <td>-0.779959</td>\n",
       "      <td>-0.679577</td>\n",
       "      <td>1.537184</td>\n",
       "      <td>-1.017518</td>\n",
       "      <td>0.373021</td>\n",
       "      <td>-0.053921</td>\n",
       "      <td>0.087636</td>\n",
       "      <td>-0.099520</td>\n",
       "      <td>0.018825</td>\n",
       "      <td>2</td>\n",
       "      <td>1</td>\n",
       "    </tr>\n",
       "  </tbody>\n",
       "</table>\n",
       "<p>30000 rows × 12 columns</p>\n",
       "</div>"
      ],
      "text/plain": [
       "              0         1         2         3         4         5         6  \\\n",
       "0     -1.894360 -0.880565 -0.646041 -0.364427  0.825343 -0.310963 -0.001634   \n",
       "1     -0.771761 -2.109515  0.705182 -1.062620  0.798236 -0.054338  0.120346   \n",
       "2     -0.853065 -1.060003  0.167405 -0.714842  0.626060 -0.043981 -0.113429   \n",
       "3     -0.203111 -0.784055 -0.526760  0.622562  1.020218  0.199193 -0.046492   \n",
       "4     -0.847140 -0.030879  0.348806  2.558250 -1.011589  1.027482  0.141751   \n",
       "...         ...       ...       ...       ...       ...       ...       ...   \n",
       "29995  2.496777  0.828529 -0.974059  0.834042 -1.013579  0.555634 -0.753341   \n",
       "29996 -1.802925  0.088260  0.118167  0.153174 -1.387879  0.562522  0.134437   \n",
       "29997  0.346745 -3.311918  0.745085  0.134661 -1.498269 -0.293887  0.581490   \n",
       "29998  0.623677  0.865436  2.176102  1.591926 -1.021344 -0.310594 -1.149540   \n",
       "29999 -0.152608 -0.779959 -0.679577  1.537184 -1.017518  0.373021 -0.053921   \n",
       "\n",
       "              7         8         9  EDUCATION  TARGET  \n",
       "0      0.034924 -0.271489  0.242224          2       1  \n",
       "1     -0.175394  0.159669  0.142466          2       1  \n",
       "2     -0.107928  0.062377  0.046088          2       0  \n",
       "3      0.087299 -0.085278  0.021001          2       0  \n",
       "4      0.548849 -0.301955  1.035960          2       0  \n",
       "...         ...       ...       ...        ...     ...  \n",
       "29995  0.396866 -0.479821  0.208317          3       0  \n",
       "29996  0.073367  0.466446  0.086797          3       0  \n",
       "29997 -0.225381  0.797873  0.170843          2       1  \n",
       "29998  2.213309 -1.274266 -4.265620          3       1  \n",
       "29999  0.087636 -0.099520  0.018825          2       1  \n",
       "\n",
       "[30000 rows x 12 columns]"
      ]
     },
     "execution_count": 22,
     "metadata": {},
     "output_type": "execute_result"
    }
   ],
   "source": [
    "X = normalize(Xo.drop([\"ID\", \"EDUCATION\", \"TARGET\"], axis=1))\n",
    "\n",
    "pca = get_pca(X, n=10)\n",
    "X_p = pca.transform(X)\n",
    "\n",
    "X_p = pd.concat([pd.DataFrame(X_p), Xo[\"EDUCATION\"], Xo[\"TARGET\"]], axis=1)\n",
    "\n",
    "X_p"
   ]
  },
  {
   "cell_type": "code",
   "execution_count": 23,
   "metadata": {},
   "outputs": [],
   "source": [
    "test_cut = 2 * X_p.shape[0] // 3\n",
    "train_set = X_p.iloc[:test_cut,:]\n",
    "test_set = X_p.iloc[test_cut:,:]\n",
    "\n",
    "is_lowEd = lambda x: (x.EDUCATION == EDU_OTHER) | (x.EDUCATION == EDU_HIGHSCHOOL)\n",
    "is_highEd = lambda x: (x.EDUCATION == EDU_GRAD) | (x.EDUCATION == EDU_UNIVERSITY)\n",
    "\n",
    "test_set_lowEd = test_set[is_lowEd(test_set)]\n",
    "test_set_highEd = test_set[is_highEd(test_set)]"
   ]
  },
  {
   "cell_type": "code",
   "execution_count": 24,
   "metadata": {},
   "outputs": [],
   "source": [
    "x_of = lambda x: x.drop([\"EDUCATION\", \"TARGET\"], axis=1)\n",
    "y_of = lambda x: x[\"TARGET\"]\n",
    "\n",
    "X_train, y_train = x_of(train_set), y_of(train_set)\n",
    "X_test_lowEd, y_test_lowEd = x_of(test_set_lowEd), y_of(test_set_lowEd)\n",
    "X_test_highEd, y_test_highEd = x_of(test_set_highEd), y_of(test_set_highEd)"
   ]
  },
  {
   "cell_type": "code",
   "execution_count": 25,
   "metadata": {},
   "outputs": [
    {
     "data": {
      "text/plain": [
       "RandomForestClassifier(bootstrap=True, ccp_alpha=0.0, class_weight=None,\n",
       "                       criterion='gini', max_depth=None, max_features='auto',\n",
       "                       max_leaf_nodes=None, max_samples=None,\n",
       "                       min_impurity_decrease=0.0, min_impurity_split=None,\n",
       "                       min_samples_leaf=1, min_samples_split=2,\n",
       "                       min_weight_fraction_leaf=0.0, n_estimators=100,\n",
       "                       n_jobs=None, oob_score=False, random_state=None,\n",
       "                       verbose=0, warm_start=False)"
      ]
     },
     "execution_count": 25,
     "metadata": {},
     "output_type": "execute_result"
    }
   ],
   "source": [
    "clf = RandomForestClassifier(n_estimators=100)\n",
    "clf.fit(X_train, y_train)"
   ]
  },
  {
   "cell_type": "code",
   "execution_count": 26,
   "metadata": {},
   "outputs": [],
   "source": [
    "y_pred_lowEd = clf.predict(X_test_lowEd)\n",
    "y_pred_highEd = clf.predict(X_test_highEd)\n",
    "\n",
    "history = (y_pred_lowEd, y_pred_highEd, y_test_lowEd, y_test_highEd)"
   ]
  },
  {
   "cell_type": "code",
   "execution_count": 27,
   "metadata": {},
   "outputs": [
    {
     "data": {
      "text/plain": [
       "(0.78515625, 0.8206433983356105)"
      ]
     },
     "execution_count": 27,
     "metadata": {},
     "output_type": "execute_result"
    }
   ],
   "source": [
    "np.average(y_pred_lowEd == y_test_lowEd), np.average(y_pred_highEd == y_test_highEd)"
   ]
  },
  {
   "cell_type": "code",
   "execution_count": 197,
   "metadata": {},
   "outputs": [],
   "source": [
    "def run_pca_rf_experiment(Xo, d=10):\n",
    "    \n",
    "    X = normalize(Xo.drop([\"ID\", \"EDUCATION\", \"TARGET\"], axis=1))\n",
    "\n",
    "    pca = get_pca(X, n=d)\n",
    "    X_p = pca.transform(X)\n",
    "\n",
    "    X_p = pd.concat([pd.DataFrame(X_p), Xo[\"EDUCATION\"], Xo[\"TARGET\"]], axis=1)\n",
    "\n",
    "    test_cut = 2 * X_p.shape[0] // 3\n",
    "    train_set = X_p.iloc[:test_cut,:]\n",
    "    test_set = X_p.iloc[test_cut:,:]\n",
    "\n",
    "    is_lowEd = lambda x: (x.EDUCATION == EDU_OTHER) | (x.EDUCATION == EDU_HIGHSCHOOL)\n",
    "    is_highEd = lambda x: (x.EDUCATION == EDU_GRAD) | (x.EDUCATION == EDU_UNIVERSITY)\n",
    "\n",
    "    test_set_lowEd = test_set[is_lowEd(test_set)]\n",
    "    test_set_highEd = test_set[is_highEd(test_set)]\n",
    "    \n",
    "    x_of = lambda x: x.drop([\"EDUCATION\", \"TARGET\"], axis=1)\n",
    "    y_of = lambda x: x[\"TARGET\"]\n",
    "\n",
    "    X_train, y_train = x_of(train_set), y_of(train_set)\n",
    "    X_test_lowEd, y_test_lowEd = x_of(test_set_lowEd), y_of(test_set_lowEd)\n",
    "    X_test_highEd, y_test_highEd = x_of(test_set_highEd), y_of(test_set_highEd)\n",
    "    \n",
    "    clf = RandomForestClassifier(n_estimators=100)\n",
    "    clf.fit(X_train, y_train)\n",
    "    \n",
    "    y_pred_lowEd = clf.predict(X_test_lowEd)\n",
    "    y_pred_highEd = clf.predict(X_test_highEd)\n",
    "\n",
    "    history = (y_pred_lowEd, y_pred_highEd, y_test_lowEd, y_test_highEd)\n",
    "    \n",
    "    acc_low_ed = np.average(y_pred_lowEd == y_test_lowEd)\n",
    "    acc_high_ed = np.average(y_pred_highEd == y_test_highEd)\n",
    "    \n",
    "    return acc_low_ed, acc_high_ed, history"
   ]
  },
  {
   "cell_type": "code",
   "execution_count": 37,
   "metadata": {},
   "outputs": [],
   "source": [
    "exp_results = [run_pca_rf_experiment(Xo) for _ in range(20)]"
   ]
  },
  {
   "cell_type": "code",
   "execution_count": 199,
   "metadata": {},
   "outputs": [],
   "source": [
    "fpr = lambda actual, pred: np.average((actual == 0) & (pred == 1))\n",
    "fnr = lambda actual, pred: np.average((actual == 1) & (pred == 0))"
   ]
  },
  {
   "cell_type": "code",
   "execution_count": 39,
   "metadata": {},
   "outputs": [],
   "source": [
    "avg_acc_lowEd = np.average([x[0] for x in exp_results])\n",
    "avg_acc_highEd = np.average([x[1] for x in exp_results])"
   ]
  },
  {
   "cell_type": "code",
   "execution_count": 40,
   "metadata": {},
   "outputs": [],
   "source": [
    "avg_fpr_lowEd = np.average([fpr(y_test_lowEd, y_pred_lowEd) for y_pred_lowEd, _, y_test_lowEd, _ in (x[2] for x in exp_results)])\n",
    "avg_fnr_lowEd = np.average([fnr(y_test_lowEd, y_pred_lowEd) for y_pred_lowEd, _, y_test_lowEd, _ in (x[2] for x in exp_results)])\n",
    "\n",
    "avg_fpr_highEd = np.average([fpr(y_test_highEd, y_pred_highEd) for _, y_pred_highEd, _, y_test_highEd in (x[2] for x in exp_results)])\n",
    "avg_fnr_highEd = np.average([fnr(y_test_highEd, y_pred_highEd) for _, y_pred_highEd, _, y_test_highEd in (x[2] for x in exp_results)])\n"
   ]
  },
  {
   "cell_type": "code",
   "execution_count": 43,
   "metadata": {
    "scrolled": true
   },
   "outputs": [
    {
     "name": "stdout",
     "output_type": "stream",
     "text": [
      "avg_fpr_lowEd 5.10%\n",
      "avg_fnr_lowEd 15.92%\n",
      "avg_fpr_highEd 3.71%\n",
      "avg_fnr_highEd 14.20%\n",
      "avg_acc_lowEd 78.98%\n",
      "avg_acc_highEd 82.10%\n"
     ]
    }
   ],
   "source": [
    "dump(\"avg_fpr_lowEd\", \"avg_fnr_lowEd\", \"avg_fpr_highEd\", \"avg_fnr_highEd\", \"avg_acc_lowEd\", \"avg_acc_highEd\")"
   ]
  },
  {
   "cell_type": "markdown",
   "metadata": {},
   "source": [
    "I made a mistake, it should be randomized"
   ]
  },
  {
   "cell_type": "code",
   "execution_count": 212,
   "metadata": {},
   "outputs": [
    {
     "name": "stdout",
     "output_type": "stream",
     "text": [
      "avg_fpr_lowEd 0.86%\n",
      "avg_fnr_lowEd 22.92%\n",
      "avg_fpr_highEd 0.76%\n",
      "avg_fnr_highEd 20.27%\n",
      "avg_acc_lowEd 76.22%\n",
      "avg_acc_highEd 78.97%\n"
     ]
    }
   ],
   "source": [
    "Xo_rnd = sklearn.utils.shuffle(Xo)\n",
    "\n",
    "exp_results = [run_pca_rf_experiment(Xo_rnd) for _ in range(20)]\n",
    "\n",
    "avg_acc_lowEd = np.average([x[0] for x in exp_results])\n",
    "avg_acc_highEd = np.average([x[1] for x in exp_results])\n",
    "\n",
    "avg_fpr_lowEd = np.average([fpr(y_test_lowEd, y_pred_lowEd) for y_pred_lowEd, _, y_test_lowEd, _ in (x[2] for x in exp_results)])\n",
    "avg_fnr_lowEd = np.average([fnr(y_test_lowEd, y_pred_lowEd) for y_pred_lowEd, _, y_test_lowEd, _ in (x[2] for x in exp_results)])\n",
    "avg_fpr_highEd = np.average([fpr(y_test_highEd, y_pred_highEd) for _, y_pred_highEd, _, y_test_highEd in (x[2] for x in exp_results)])\n",
    "avg_fnr_highEd = np.average([fnr(y_test_highEd, y_pred_highEd) for _, y_pred_highEd, _, y_test_highEd in (x[2] for x in exp_results)])\n",
    "\n",
    "dump(\"avg_fpr_lowEd\", \"avg_fnr_lowEd\", \"avg_fpr_highEd\", \"avg_fnr_highEd\", \"avg_acc_lowEd\", \"avg_acc_highEd\")"
   ]
  },
  {
   "cell_type": "markdown",
   "metadata": {},
   "source": [
    "<img width=\"400\" src=\"https://d1yn1kh78jj1rr.cloudfront.net/image/preview/rDtN98Qoishumwih/swirl-design-separator_M1fewjtO_SB_PM.jpg\"/>"
   ]
  },
  {
   "cell_type": "markdown",
   "metadata": {},
   "source": [
    "# Fair PCA"
   ]
  },
  {
   "cell_type": "code",
   "execution_count": 91,
   "metadata": {},
   "outputs": [],
   "source": [
    "from numpy import linalg as LA"
   ]
  },
  {
   "cell_type": "code",
   "execution_count": 153,
   "metadata": {},
   "outputs": [],
   "source": [
    "from scipy.linalg import sqrtm"
   ]
  },
  {
   "cell_type": "code",
   "execution_count": 98,
   "metadata": {},
   "outputs": [],
   "source": [
    "def optApprox(M, d):\n",
    "    pca = decomposition.PCA(n_components=d)\n",
    "    pca.fit(M)\n",
    "    return pca.transform(M)"
   ]
  },
  {
   "cell_type": "code",
   "execution_count": 12,
   "metadata": {},
   "outputs": [],
   "source": [
    "X = normalize(Xo.drop([\"ID\", \"EDUCATION\", \"TARGET\"], axis=1))"
   ]
  },
  {
   "cell_type": "code",
   "execution_count": 30,
   "metadata": {},
   "outputs": [],
   "source": [
    "is_lowEd = lambda x: (x.EDUCATION == EDU_OTHER) | (x.EDUCATION == EDU_HIGHSCHOOL)\n",
    "is_highEd = lambda x: (x.EDUCATION == EDU_GRAD) | (x.EDUCATION == EDU_UNIVERSITY)\n",
    "\n",
    "A = X[is_lowEd(Xo)].values\n",
    "B = X[is_highEd(Xo)].values"
   ]
  },
  {
   "cell_type": "code",
   "execution_count": 131,
   "metadata": {},
   "outputs": [],
   "source": [
    "# covA = np.dot(A.T, A)\n",
    "# covB = np.dot(B.T, B)\n",
    "\n",
    "# w_1 = 0.5\n",
    "# w_2 = 0.5\n",
    "\n",
    "# m_A = A.shape[0]\n",
    "# m_B = B.shape[0]\n",
    "\n",
    "# o1 = np.sqrt(w_1/m_A) * A\n",
    "# o2 = np.sqrt(w_2/m_B) * B\n",
    "\n",
    "# o = np.concatenate([o1, o2], axis=0)\n",
    "\n",
    "# coeff_P_o = get_pca(o, n=10).components_.T\n",
    "\n",
    "# P_o = np.dot(coeff_P_o, coeff_P_o.T)\n",
    "# z_1 = (1/m_A) * (alpha - np.sum(np.multiply(covA, P_o)))\n",
    "# z_2 = (1/m_B) * (beta - np.sum(np.multiply(covB, P_o)))"
   ]
  },
  {
   "cell_type": "code",
   "execution_count": 173,
   "metadata": {},
   "outputs": [],
   "source": [
    "def oracle(n, A, m_A, B, m_B, alpha, beta, d, w_1, w_2):\n",
    "    if A.shape != (m_A, n) or B.shape != (m_B, n):\n",
    "        raise \"Input has wrong size\"\n",
    "    \n",
    "    covA = np.dot(A.T, A)\n",
    "    covB = np.dot(B.T, B)\n",
    "    \n",
    "    o1 = np.sqrt(w_1/m_A) * A\n",
    "    o2 = np.sqrt(w_2/m_B) * B\n",
    "\n",
    "    o = np.concatenate([o1, o2], axis=0)\n",
    "\n",
    "    coeff_P_o = get_pca(o, n=10).components_.T\n",
    "\n",
    "    P_o = np.dot(coeff_P_o, coeff_P_o.T)\n",
    "    z_1 = (1/m_A) * (alpha - np.sum(np.multiply(covA, P_o)))\n",
    "    z_2 = (1/m_B) * (beta - np.sum(np.multiply(covB, P_o)))\n",
    "    \n",
    "    return P_o, z_1, z_2, coeff_P_o"
   ]
  },
  {
   "cell_type": "code",
   "execution_count": 207,
   "metadata": {},
   "outputs": [],
   "source": [
    "from IPython.display import display, HTML\n",
    "\n",
    "def mw(A, B, d, eta, T):\n",
    "    \n",
    "    covA = np.dot(A.transpose(), A)\n",
    "    covB = np.dot(B.transpose(), B)\n",
    "    \n",
    "    m_A = A.shape[0]\n",
    "    m_B = B.shape[0]\n",
    "    n = A.shape[1]\n",
    "    \n",
    "    Ahat = optApprox(A, d)\n",
    "    alpha = LA.norm(Ahat, 'fro') ** 2\n",
    "    \n",
    "    Bhat = optApprox(B, d)\n",
    "    beta = LA.norm(Bhat, 'fro') ** 2\n",
    "    \n",
    "    w_1 = 0.5\n",
    "    w_2 = 0.5\n",
    "    \n",
    "    P = np.zeros([n, n])\n",
    "    cP = np.zeros([n, d])\n",
    "    \n",
    "    record = [(\"iteration\", \"w_1\", \"w_2\", \"loss A\", \"loss B\", \"loss A by average\", \"loss B by average\")];\n",
    "    \n",
    "    for t in range(1, T + 1):\n",
    "        P_temp, z_1, z_2, cP_temp = oracle(n, A, m_A, B, m_B, alpha, beta, d, w_1, w_2)\n",
    "        \n",
    "        w_1star = w_1 * np.exp(eta * z_1)\n",
    "        w_2star = w_2 * np.exp(eta * z_2)\n",
    "        \n",
    "        w_1 = w_1star / (w_1star + w_2star)\n",
    "        w_2 = w_2star / (w_2star + w_1star)\n",
    "        \n",
    "        P = P + P_temp\n",
    "        cP = cP + cP_temp\n",
    "        \n",
    "        P_average = P / t\n",
    "        \n",
    "        record.append((t, w_1, w_2, z_1, z_2, (1/m_A)*(alpha - np.sum(np.multiply(covA, P_average))), (1/m_B)*(beta - np.sum(np.multiply(covB, P_average)))))\n",
    "    \n",
    "    P = P/T\n",
    "    cP = cP/T\n",
    "    \n",
    "    z_1 = 1/(m_A)*(alpha - np.sum(np.multiply(covA, P)))\n",
    "    z_2 = 1/(m_B)*(beta - np.sum(np.multiply(covB, P)))\n",
    "    z = max(z_1,z_2);\n",
    "    \n",
    "    P_last = P_temp\n",
    "    cP_last = cP_temp\n",
    "    \n",
    "    zl_1 = 1/(m_A)*(alpha - np.sum(np.multiply(covA, P_last)))\n",
    "    zl_2 = 1/(m_B)*(beta - np.sum(np.multiply(covB, P_last)))\n",
    "    z_last = max(zl_1,zl_2)\n",
    "    \n",
    "    print(\"Done\")\n",
    "    print('MW method is finished. The loss for group A is ', z_1, 'For group B is ', z_2)\n",
    "    print(\"Record:\")\n",
    "    \n",
    "    for r in record: \n",
    "        print(\"\\t\\t\\t\".join([str(rr) for rr in r]))\n",
    "    \n",
    "    return P_last, z, P, z_last, cP, cP_last\n"
   ]
  },
  {
   "cell_type": "code",
   "execution_count": 185,
   "metadata": {},
   "outputs": [
    {
     "data": {
      "text/plain": [
       "204.9708530345099"
      ]
     },
     "execution_count": 185,
     "metadata": {},
     "output_type": "execute_result"
    }
   ],
   "source": [
    "LA.norm(A - A @ coeff_A[:,:3] @ coeff_A[:,:3].T)"
   ]
  },
  {
   "cell_type": "code",
   "execution_count": 186,
   "metadata": {},
   "outputs": [
    {
     "data": {
      "text/plain": [
       "204.09460652321528"
      ]
     },
     "execution_count": 186,
     "metadata": {},
     "output_type": "execute_result"
    }
   ],
   "source": [
    "LA.norm(A - approx(A, get_pca(A, 3)))"
   ]
  },
  {
   "cell_type": "code",
   "execution_count": 187,
   "metadata": {},
   "outputs": [],
   "source": [
    "def fairPCA(A, B, d):\n",
    "    \n",
    "    T = 10\n",
    "    eta = 1\n",
    "    feature_num = A.shape[1]\n",
    "    \n",
    "    P_fair, z, P_last, z_last, cP_fair, cP_last = mw(A, B, d, eta, T)\n",
    "    \n",
    "    if z < z_last:\n",
    "        P_smart = P_fair\n",
    "        cP_smart = cP_fair\n",
    "    else:\n",
    "        P_smart = P_last\n",
    "        cP_smart = cP_last\n",
    "    \n",
    "    P_smart = np.eye(P_smart.shape[0]) - sqrtm(np.eye(P_smart.shape[0]) - P_smart)\n",
    "    \n",
    "    approxFair_A = A @ P_smart;\n",
    "    approxFair_B = B @ P_smart;\n",
    "    \n",
    "    return approxFair_A, approxFair_B, P_smart, cP_smart\n"
   ]
  },
  {
   "cell_type": "code",
   "execution_count": 188,
   "metadata": {
    "scrolled": true
   },
   "outputs": [
    {
     "name": "stdout",
     "output_type": "stream",
     "text": [
      "Done\n",
      "MW method is finished. The loss for group A is  0.07629710947008529 For group B is  0.13692378139464975\n",
      "Record:\n",
      "iteration\tw_1\tw_2\tloss A\tloss B\tloss A by average\tloss B by average\n",
      "1\t0.39802408727952676\t0.6019759127204731\t-0.11953946044518994\t0.29416544771492986\t-0.11953946044518994\t0.29416544771492986\n",
      "2\t0.376008364231138\t0.623991635768862\t0.053531095567239624\t0.14635176303209166\t-0.033004182438976605\t0.22025860537351197\n",
      "3\t0.36463739711029997\t0.6353626028897\t0.08056655505504692\t0.1293334162941967\t0.004852730059030278\t0.18995020901373783\n",
      "4\t0.3587077125642549\t0.6412922874357452\t0.0951161131003039\t0.12080113012501845\t0.027418575819348687\t0.17266293929155976\n",
      "5\t0.35568971458325715\t0.6443102854167428\t0.10312892502165813\t0.11627312830863606\t0.042560645659810575\t0.16138497709497454\n",
      "6\t0.3542014773277426\t0.6457985226722573\t0.10740360001999805\t0.11390361734664511\t0.05336780471984278\t0.15347141713691806\n",
      "7\t0.35348533748280847\t0.6465146625171915\t0.10957787088617994\t0.11271006782804889\t0.06139781417217501\t0.1476483672356507\n",
      "8\t0.35314580957994174\t0.6468541904200583\t0.11064245273990973\t0.1121284578846035\t0.06755339399314257\t0.14320837856677246\n",
      "9\t0.3529861048960632\t0.6470138951039367\t0.11115168590024244\t0.11185088652754244\t0.072397648649487\t0.13972421278463396\n",
      "10\t0.35291127934873096\t0.647088720651269\t0.1113922568554439\t0.11171989888480137\t0.07629710947008529\t0.13692378139464975\n"
     ]
    }
   ],
   "source": [
    "approxFair_A, approxFair_B, P_smart, cP_smart = fairPCA(A, B, 10)"
   ]
  },
  {
   "cell_type": "code",
   "execution_count": 194,
   "metadata": {},
   "outputs": [
    {
     "data": {
      "text/plain": [
       "128.5990829837401"
      ]
     },
     "execution_count": 194,
     "metadata": {},
     "output_type": "execute_result"
    }
   ],
   "source": [
    "LA.norm(A - A @ cP_smart @ cP_smart.T)"
   ]
  },
  {
   "cell_type": "code",
   "execution_count": 195,
   "metadata": {},
   "outputs": [
    {
     "data": {
      "text/plain": [
       "116.170153919192"
      ]
     },
     "execution_count": 195,
     "metadata": {},
     "output_type": "execute_result"
    }
   ],
   "source": [
    "LA.norm(A - A @ coeff_A[:,:10] @ coeff_A[:,:3].T)"
   ]
  },
  {
   "cell_type": "code",
   "execution_count": 189,
   "metadata": {},
   "outputs": [
    {
     "data": {
      "text/plain": [
       "(22, 10)"
      ]
     },
     "execution_count": 189,
     "metadata": {},
     "output_type": "execute_result"
    }
   ],
   "source": [
    "cP_smart.shape"
   ]
  },
  {
   "cell_type": "code",
   "execution_count": 158,
   "metadata": {},
   "outputs": [
    {
     "data": {
      "text/plain": [
       "(5040, 22)"
      ]
     },
     "execution_count": 158,
     "metadata": {},
     "output_type": "execute_result"
    }
   ],
   "source": [
    "approxFair_A.shape"
   ]
  },
  {
   "cell_type": "code",
   "execution_count": 208,
   "metadata": {},
   "outputs": [],
   "source": [
    "def run_fair_pca_rf_experiment(Xo, d=10):\n",
    "    \n",
    "    X = normalize(Xo.drop([\"ID\", \"EDUCATION\", \"TARGET\"], axis=1))\n",
    "    \n",
    "    # Utility functions for selecting high education and low education\n",
    "    is_lowEd = lambda x: (x.EDUCATION == EDU_OTHER) | (x.EDUCATION == EDU_HIGHSCHOOL)\n",
    "    is_highEd = lambda x: (x.EDUCATION == EDU_GRAD) | (x.EDUCATION == EDU_UNIVERSITY)\n",
    "    \n",
    "    # Fair PCA requires division by the protected groups\n",
    "    A = X[is_lowEd(Xo)].values\n",
    "    B = X[is_highEd(Xo)].values\n",
    "    \n",
    "    # Convert to Fair PCA low-dim space\n",
    "    _, _, _, coff_P = fairPCA(A, B, d)\n",
    "    X_p = X @ coff_P\n",
    "    \n",
    "#     pca = get_pca(X, n=10)\n",
    "#     X_p = pca.transform(X)\n",
    "\n",
    "    X_p = pd.concat([pd.DataFrame(X_p), Xo[\"EDUCATION\"], Xo[\"TARGET\"]], axis=1)\n",
    "\n",
    "    test_cut = 2 * X_p.shape[0] // 3\n",
    "    train_set = X_p.iloc[:test_cut,:]\n",
    "    test_set = X_p.iloc[test_cut:,:]\n",
    "    \n",
    "    test_set_lowEd = test_set[is_lowEd(test_set)]\n",
    "    test_set_highEd = test_set[is_highEd(test_set)]\n",
    "    \n",
    "    x_of = lambda x: x.drop([\"EDUCATION\", \"TARGET\"], axis=1)\n",
    "    y_of = lambda x: x[\"TARGET\"]\n",
    "\n",
    "    X_train, y_train = x_of(train_set), y_of(train_set)\n",
    "    X_test_lowEd, y_test_lowEd = x_of(test_set_lowEd), y_of(test_set_lowEd)\n",
    "    X_test_highEd, y_test_highEd = x_of(test_set_highEd), y_of(test_set_highEd)\n",
    "    \n",
    "    clf = RandomForestClassifier(n_estimators=100)\n",
    "    clf.fit(X_train, y_train)\n",
    "    \n",
    "    y_pred_lowEd = clf.predict(X_test_lowEd)\n",
    "    y_pred_highEd = clf.predict(X_test_highEd)\n",
    "\n",
    "    history = (y_pred_lowEd, y_pred_highEd, y_test_lowEd, y_test_highEd)\n",
    "    \n",
    "    acc_low_ed = np.average(y_pred_lowEd == y_test_lowEd)\n",
    "    acc_high_ed = np.average(y_pred_highEd == y_test_highEd)\n",
    "    \n",
    "    return acc_low_ed, acc_high_ed, history"
   ]
  },
  {
   "cell_type": "code",
   "execution_count": 210,
   "metadata": {
    "scrolled": true
   },
   "outputs": [
    {
     "name": "stdout",
     "output_type": "stream",
     "text": [
      "Done\n",
      "MW method is finished. The loss for group A is  0.07629710866450397 For group B is  0.13692378150204837\n",
      "Record:\n",
      "iteration\t\t\tw_1\t\t\tw_2\t\t\tloss A\t\t\tloss B\t\t\tloss A by average\t\t\tloss B by average\n",
      "1\t\t\t0.39802409165144925\t\t\t0.6019759083485506\t\t\t-0.11953945133191443\t\t\t0.29416543858152006\t\t\t-0.11953945133191443\t\t\t0.29416543858152006\n",
      "2\t\t\t0.3760083659963512\t\t\t0.6239916340036489\t\t\t0.05353108910544145\t\t\t0.14635176729346233\t\t\t-0.03300418111323649\t\t\t0.22025860293749003\n",
      "3\t\t\t0.3646373984935165\t\t\t0.6353626015064836\t\t\t0.08056655408337454\t\t\t0.12933341687558753\t\t\t0.004852730618967187\t\t\t0.18995020758352252\n",
      "4\t\t\t0.3587077132372394\t\t\t0.6412922867627606\t\t\t0.09511611116310907\t\t\t0.12080113123272099\t\t\t0.027418575755002658\t\t\t0.17266293849582331\n",
      "5\t\t\t0.3556897151783358\t\t\t0.6443102848216643\t\t\t0.10312892481074774\t\t\t0.11627312842666414\t\t\t0.04256064556614994\t\t\t0.16138497648198866\n",
      "6\t\t\t0.35420147781983913\t\t\t0.6457985221801609\t\t\t0.1074035997321473\t\t\t0.11390361750410256\t\t\t0.05336780459381569\t\t\t0.15347141665234135\n",
      "7\t\t\t0.3534853380184143\t\t\t0.6465146619815856\t\t\t0.10957787100976439\t\t\t0.11271006775927801\t\t\t0.06139781408180877\t\t\t0.14764836681047347\n",
      "8\t\t\t0.3531458105710101\t\t\t0.6468541894289899\t\t\t0.11064245402938555\t\t\t0.11212845717920894\t\t\t0.06755339407525696\t\t\t0.14320837810656895\n",
      "9\t\t\t0.3529861054112268\t\t\t0.6470138945887732\t\t\t0.11115168455185157\t\t\t0.11185088726202545\t\t\t0.07239764857265635\t\t\t0.13972421245717417\n",
      "10\t\t\t0.3529112772638121\t\t\t0.6470887227361879\t\t\t0.11139224949114693\t\t\t0.11171990290593509\t\t\t0.07629710866450397\t\t\t0.13692378150204837\n",
      "Done\n",
      "MW method is finished. The loss for group A is  0.0762971093845899 For group B is  0.13692378110811151\n",
      "Record:\n",
      "iteration\t\t\tw_1\t\t\tw_2\t\t\tloss A\t\t\tloss B\t\t\tloss A by average\t\t\tloss B by average\n",
      "1\t\t\t0.3980240913977213\t\t\t0.6019759086022786\t\t\t-0.11953945186094296\t\t\t0.29416543911145215\t\t\t-0.11953945186094296\t\t\t0.29416543911145215\n",
      "2\t\t\t0.37600836636555146\t\t\t0.6239916336344484\t\t\t0.05353109069022875\t\t\t0.14635176624571972\t\t\t-0.03300418058535422\t\t\t0.2202586026785883\n",
      "3\t\t\t0.3646373991531958\t\t\t0.6353626008468043\t\t\t0.08056655487910157\t\t\t0.12933341639747362\t\t\t0.004852731236130081\t\t\t0.18995020725155085\n",
      "4\t\t\t0.3587077140016214\t\t\t0.6412922859983786\t\t\t0.09511611146493716\t\t\t0.12080113105908646\t\t\t0.027418576293334013\t\t\t0.1726629382034324\n",
      "5\t\t\t0.35568971660444876\t\t\t0.6443102833955512\t\t\t0.10312892666872704\t\t\t0.11627312738469144\t\t\t0.042560646368410886\t\t\t0.1613849760396861\n",
      "6\t\t\t0.3542014784160248\t\t\t0.6457985215839751\t\t\t0.10740359740071394\t\t\t0.1139036187891357\t\t\t0.05336780487379281\t\t\t0.1534714164979273\n",
      "7\t\t\t0.3534853382497255\t\t\t0.6465146617502746\t\t\t0.10957786998014998\t\t\t0.11271006832386748\t\t\t0.061397814174704274\t\t\t0.1476483667587759\n",
      "8\t\t\t0.3531458102155772\t\t\t0.6468541897844227\t\t\t0.11064245236808809\t\t\t0.11212845808602116\t\t\t0.06755339394887472\t\t\t0.14320837817468243\n",
      "9\t\t\t0.3529861053687003\t\t\t0.6470138946312997\t\t\t0.11115168543819891\t\t\t0.11185088677862165\t\t\t0.07239764855880028\t\t\t0.13972421246400824\n",
      "10\t\t\t0.35291127980785864\t\t\t0.6470887201921415\t\t\t0.11139225681671387\t\t\t0.11171989890502922\t\t\t0.0762971093845899\t\t\t0.13692378110811151\n",
      "Done\n",
      "MW method is finished. The loss for group A is  0.07629710921826209 For group B is  0.13692378134149313\n",
      "Record:\n",
      "iteration\t\t\tw_1\t\t\tw_2\t\t\tloss A\t\t\tloss B\t\t\tloss A by average\t\t\tloss B by average\n",
      "1\t\t\t0.39802408954268853\t\t\t0.6019759104573115\t\t\t-0.11953945573902548\t\t\t0.294165442975547\t\t\t-0.11953945573902548\t\t\t0.294165442975547\n",
      "2\t\t\t0.3760083653196579\t\t\t0.623991634680342\t\t\t0.053531092670640476\t\t\t0.14635176494165766\t\t\t-0.033004181534193947\t\t\t0.2202586039586035\n",
      "3\t\t\t0.3646373983076104\t\t\t0.6353626016923896\t\t\t0.08056655538318395\t\t\t0.12933341609369892\t\t\t0.0048527307716006085\t\t\t0.18995020800363216\n",
      "4\t\t\t0.3587077132995002\t\t\t0.6412922867004999\t\t\t0.09511611184558234\t\t\t0.12080113084210183\t\t\t0.027418576040093155\t\t\t0.17266293871325017\n",
      "5\t\t\t0.3556897181557452\t\t\t0.6443102818442548\t\t\t0.1031289329655833\t\t\t0.11627312386027018\t\t\t0.04256064742519465\t\t\t0.1613849757426556\n",
      "6\t\t\t0.3542014790965164\t\t\t0.6457985209034836\t\t\t0.10740359495397396\t\t\t0.11390362013653604\t\t\t0.05336780534665498\t\t\t0.1534714164749682\n",
      "7\t\t\t0.3534853384430106\t\t\t0.6465146615569892\t\t\t0.10957786860393724\t\t\t0.1127100690768119\t\t\t0.06139781438341165\t\t\t0.14764836684665847\n",
      "8\t\t\t0.3531458080297325\t\t\t0.6468541919702674\t\t\t0.11064244563578021\t\t\t0.1121284617683066\t\t\t0.06755339328995592\t\t\t0.14320837871186715\n",
      "9\t\t\t0.35298610435808186\t\t\t0.647013895641918\t\t\t0.11115168876833253\t\t\t0.11185088496495228\t\t\t0.07239764834311144\t\t\t0.13972421273998561\n",
      "10\t\t\t0.3529112788950538\t\t\t0.6470887211049462\t\t\t0.11139225709463813\t\t\t0.11171989875505847\t\t\t0.07629710921826209\t\t\t0.13692378134149313\n",
      "Done\n",
      "MW method is finished. The loss for group A is  0.07629710885536793 For group B is  0.13692378139474198\n",
      "Record:\n",
      "iteration\t\t\tw_1\t\t\tw_2\t\t\tloss A\t\t\tloss B\t\t\tloss A by average\t\t\tloss B by average\n",
      "1\t\t\t0.39802409151678714\t\t\t0.6019759084832129\t\t\t-0.11953945161317062\t\t\t0.29416543886229074\t\t\t-0.11953945161317062\t\t\t0.29416543886229074\n",
      "2\t\t\t0.3760083666023575\t\t\t0.6239916333976425\t\t\t0.0535310909974936\t\t\t0.14635176604062727\t\t\t-0.033004180307839956\t\t\t0.220258602451459\n",
      "3\t\t\t0.36463739927909655\t\t\t0.6353626007209034\t\t\t0.08056655458739052\t\t\t0.12933341657162128\t\t\t0.0048527313239035376\t\t\t0.18995020715817976\n",
      "4\t\t\t0.35870771364001913\t\t\t0.6412922863599808\t\t\t0.0951161101208368\t\t\t0.12080113183035275\t\t\t0.027418576023136132\t\t\t0.172662938326223\n",
      "5\t\t\t0.35568971420662576\t\t\t0.6443102857933741\t\t\t0.10312892096705278\t\t\t0.11627313057395101\t\t\t0.042560645011921194\t\t\t0.16138497677576766\n",
      "6\t\t\t0.3542014769312468\t\t\t0.6457985230687532\t\t\t0.10740359996251221\t\t\t0.1139036173791033\t\t\t0.05336780417035496\t\t\t0.15347141687632557\n",
      "7\t\t\t0.3534853364379592\t\t\t0.6465146635620408\t\t\t0.10957786905399565\t\t\t0.11271006883447034\t\t\t0.061397813439445656\t\t\t0.14764836715605886\n",
      "8\t\t\t0.3531458092972377\t\t\t0.6468541907027624\t\t\t0.11064245489713877\t\t\t0.11212845670743248\t\t\t0.06755339362165586\t\t\t0.14320837834998174\n",
      "9\t\t\t0.3529861047856808\t\t\t0.6470138952143191\t\t\t0.11115168638973826\t\t\t0.1118508862627762\t\t\t0.07239764837366469\t\t\t0.13972421256251313\n",
      "10\t\t\t0.35291127794472876\t\t\t0.6470887220552712\t\t\t0.11139225319069708\t\t\t0.1117199008848062\t\t\t0.07629710885536793\t\t\t0.13692378139474198\n",
      "Done\n",
      "MW method is finished. The loss for group A is  0.07629710894987453 For group B is  0.1369237813351959\n",
      "Record:\n",
      "iteration\t\t\tw_1\t\t\tw_2\t\t\tloss A\t\t\tloss B\t\t\tloss A by average\t\t\tloss B by average\n",
      "1\t\t\t0.39802409162181557\t\t\t0.6019759083781844\t\t\t-0.1195394513943924\t\t\t0.29416543864272143\t\t\t-0.1195394513943924\t\t\t0.29416543864272143\n",
      "2\t\t\t0.3760083664613026\t\t\t0.6239916335386975\t\t\t0.05353109037212504\t\t\t0.14635176645479672\t\t\t-0.03300418051113368\t\t\t0.22025860254876026\n",
      "3\t\t\t0.3646373991114984\t\t\t0.6353626008885017\t\t\t0.08056655451065516\t\t\t0.1293334166171091\t\t\t0.004852731162795935\t\t\t0.1899502072382091\n",
      "4\t\t\t0.3587077130417806\t\t\t0.6412922869582193\t\t\t0.09511610892757687\t\t\t0.120801132514304\t\t\t0.027418575603989002\t\t\t0.1726629385572328\n",
      "5\t\t\t0.3556897153392411\t\t\t0.644310284660759\t\t\t0.10312892580434617\t\t\t0.11627312786846886\t\t\t0.04256064564406044\t\t\t0.1613849764194819\n",
      "6\t\t\t0.35420147821766484\t\t\t0.6457985217823352\t\t\t0.10740360039973951\t\t\t0.1139036171346193\t\t\t0.053367804770006466\t\t\t0.1534714165386691\n",
      "7\t\t\t0.3534853380371137\t\t\t0.6465146619628864\t\t\t0.10957786993870879\t\t\t0.11271006834558274\t\t\t0.06139781407982232\t\t\t0.14764836679680066\n",
      "8\t\t\t0.35314581042587445\t\t\t0.6468541895741255\t\t\t0.11064245356421798\t\t\t0.11212845743121512\t\t\t0.06755339401537178\t\t\t0.14320837812610157\n",
      "9\t\t\t0.3529861053331147\t\t\t0.6470138946668853\t\t\t0.11115168474098894\t\t\t0.11185088715782865\t\t\t0.07239764854044003\t\t\t0.13972421246296066\n",
      "10\t\t\t0.3529112782965308\t\t\t0.6470887217034692\t\t\t0.1113922526347764\t\t\t0.11171990118531758\t\t\t0.07629710894987453\t\t\t0.1369237813351959\n",
      "Done\n",
      "MW method is finished. The loss for group A is  0.07629710980886774 For group B is  0.13692378085692825\n",
      "Record:\n",
      "iteration\t\t\tw_1\t\t\tw_2\t\t\tloss A\t\t\tloss B\t\t\tloss A by average\t\t\tloss B by average\n",
      "1\t\t\t0.3980240917306545\t\t\t0.6019759082693454\t\t\t-0.11953945116706491\t\t\t0.2941654384157979\t\t\t-0.11953945116706491\t\t\t0.2941654384157979\n",
      "2\t\t\t0.37600836645126157\t\t\t0.6239916335487384\t\t\t0.053531090072878186\t\t\t0.14635176665259636\t\t\t-0.03300418054709481\t\t\t0.2202586025341983\n",
      "3\t\t\t0.36463739895833164\t\t\t0.6353626010416683\t\t\t0.08056655412521418\t\t\t0.12933341684999414\t\t\t0.004852731010341524\t\t\t0.18995020730612866\n",
      "4\t\t\t0.35870771435648996\t\t\t0.64129228564351\t\t\t0.09511611298001385\t\t\t0.12080113019039831\t\t\t0.02741857650275744\t\t\t0.17266293802719432\n",
      "5\t\t\t0.35568971481620804\t\t\t0.6443102851837921\t\t\t0.10312892067613863\t\t\t0.11627313073772937\t\t\t0.042560645337436566\t\t\t0.16138497656930367\n",
      "6\t\t\t0.35420147857870277\t\t\t0.6457985214212973\t\t\t0.10740360288882152\t\t\t0.1139036157630964\t\t\t0.053367804929332616\t\t\t0.1534714164349358\n",
      "7\t\t\t0.3534853380878576\t\t\t0.6465146619121424\t\t\t0.10957786906257376\t\t\t0.11271006882576343\t\t\t0.06139781409122132\t\t\t0.14764836677648532\n",
      "8\t\t\t0.35314581031560577\t\t\t0.6468541896843941\t\t\t0.1106424531093667\t\t\t0.11212845768112144\t\t\t0.06755339396849382\t\t\t0.14320837813956158\n",
      "9\t\t\t0.3529861055410209\t\t\t0.6470138944589792\t\t\t0.11115168564273416\t\t\t0.11185088666653377\t\t\t0.07239764859896529\t\t\t0.1397242124203389\n",
      "10\t\t\t0.3529112813503629\t\t\t0.647088718649637\t\t\t0.11139226069798396\t\t\t0.11171989678625144\t\t\t0.07629710980886774\t\t\t0.13692378085692825\n"
     ]
    },
    {
     "name": "stdout",
     "output_type": "stream",
     "text": [
      "Done\n",
      "MW method is finished. The loss for group A is  0.07629710908879912 For group B is  0.13692378114445022\n",
      "Record:\n",
      "iteration\t\t\tw_1\t\t\tw_2\t\t\tloss A\t\t\tloss B\t\t\tloss A by average\t\t\tloss B by average\n",
      "1\t\t\t0.3980240931109747\t\t\t0.6019759068890254\t\t\t-0.11953944826989986\t\t\t0.29416543555204955\t\t\t-0.11953944826989986\t\t\t0.29416543555204955\n",
      "2\t\t\t0.3760083670820121\t\t\t0.6239916329179879\t\t\t0.05353108822135197\t\t\t0.14635176787366136\t\t\t-0.033004180024273945\t\t\t0.22025860171285427\n",
      "3\t\t\t0.364637399405543\t\t\t0.635362600594457\t\t\t0.08056655365126061\t\t\t0.12933341713403995\t\t\t0.004852731200902319\t\t\t0.1899502068532487\n",
      "4\t\t\t0.35870771468055523\t\t\t0.6412922853194447\t\t\t0.09511611264840053\t\t\t0.1208011303803518\t\t\t0.027418576562781204\t\t\t0.17266293773502567\n",
      "5\t\t\t0.3556897160191016\t\t\t0.6443102839808984\t\t\t0.10312892313671447\t\t\t0.11627312935825156\t\t\t0.0425606458775667\t\t\t0.16138497605967272\n",
      "6\t\t\t0.35420147836777427\t\t\t0.6457985216322257\t\t\t0.10740359891083605\t\t\t0.11390361795604137\t\t\t0.05336780471644734\t\t\t0.15347141637573022\n",
      "7\t\t\t0.3534853381127918\t\t\t0.6465146618872082\t\t\t0.10957786972875987\t\t\t0.11271006846072347\t\t\t0.06139781400391849\t\t\t0.1476483666735891\n",
      "8\t\t\t0.3531458111408134\t\t\t0.6468541888591867\t\t\t0.11064245537432033\t\t\t0.112128456442723\t\t\t0.06755339417522052\t\t\t0.1432083778947323\n",
      "9\t\t\t0.352986104720327\t\t\t0.647013895279673\t\t\t0.11115168098077403\t\t\t0.11185088921046749\t\t\t0.07239764826472454\t\t\t0.1397242124853688\n",
      "10\t\t\t0.35291127904937636\t\t\t0.6470887209506235\t\t\t0.11139225650542993\t\t\t0.11171989907618078\t\t\t0.07629710908879912\t\t\t0.13692378114445022\n",
      "Done\n",
      "MW method is finished. The loss for group A is  0.07629710925854259 For group B is  0.1369237812158625\n",
      "Record:\n",
      "iteration\t\t\tw_1\t\t\tw_2\t\t\tloss A\t\t\tloss B\t\t\tloss A by average\t\t\tloss B by average\n",
      "1\t\t\t0.39802409093237673\t\t\t0.6019759090676233\t\t\t-0.11953945283209852\t\t\t0.29416544008246187\t\t\t-0.11953945283209852\t\t\t0.29416544008246187\n",
      "2\t\t\t0.37600836597122467\t\t\t0.6239916340287753\t\t\t0.05353109085001975\t\t\t0.14635176614400588\t\t\t-0.03300418099103794\t\t\t0.2202586031132339\n",
      "3\t\t\t0.3646373988061734\t\t\t0.6353626011938266\t\t\t0.08056655499303671\t\t\t0.12933341632861997\t\t\t0.004852731003654573\t\t\t0.18995020751836258\n",
      "4\t\t\t0.3587077133432019\t\t\t0.641292286656798\t\t\t0.09511611059807899\t\t\t0.12080113155659584\t\t\t0.027418575902259955\t\t\t0.1726629385279197\n",
      "5\t\t\t0.3556897151880822\t\t\t0.6443102848119178\t\t\t0.10312892454165569\t\t\t0.11627312857567716\t\t\t0.04256064563013795\t\t\t0.16138497653747214\n",
      "6\t\t\t0.35420148257754724\t\t\t0.6457985174224528\t\t\t0.10740361310732074\t\t\t0.11390361012242527\t\t\t0.05336780687633556\t\t\t0.1534714154682961\n",
      "7\t\t\t0.3534853399998643\t\t\t0.6465146600001358\t\t\t0.10957786317089885\t\t\t0.11271007204950777\t\t\t0.06139781491841686\t\t\t0.1476483664084729\n",
      "8\t\t\t0.3531458099076296\t\t\t0.6468541900923703\t\t\t0.11064244654138862\t\t\t0.11212846126553334\t\t\t0.0675533938712876\t\t\t0.14320837826560368\n",
      "9\t\t\t0.35298610517003975\t\t\t0.6470138948299603\t\t\t0.11115168574787464\t\t\t0.11185088661005708\t\t\t0.07239764852424237\t\t\t0.13972421252609876\n",
      "10\t\t\t0.35291127927394506\t\t\t0.647088720726055\t\t\t0.11139225586726204\t\t\t0.11171989942371942\t\t\t0.07629710925854259\t\t\t0.1369237812158625\n",
      "Done\n",
      "MW method is finished. The loss for group A is  0.07629710923379279 For group B is  0.13692378117853535\n",
      "Record:\n",
      "iteration\t\t\tw_1\t\t\tw_2\t\t\tloss A\t\t\tloss B\t\t\tloss A by average\t\t\tloss B by average\n",
      "1\t\t\t0.39802409157433205\t\t\t0.601975908425668\t\t\t-0.11953945149022716\t\t\t0.2941654387450643\t\t\t-0.11953945149022716\t\t\t0.2941654387450643\n",
      "2\t\t\t0.37600836657901204\t\t\t0.623991633420988\t\t\t0.053531090795539575\t\t\t0.14635176617834403\t\t\t-0.03300418034734379\t\t\t0.22025860246170534\n",
      "3\t\t\t0.3646373991193271\t\t\t0.635362600880673\t\t\t0.08056655421850814\t\t\t0.12933341679286006\t\t\t0.004852731174604929\t\t\t0.18995020723875533\n",
      "4\t\t\t0.3587077137293714\t\t\t0.6412922862706287\t\t\t0.09511611080522435\t\t\t0.12080113143669255\t\t\t0.02741857608226195\t\t\t0.1726629382882432\n",
      "5\t\t\t0.3556897161003872\t\t\t0.6443102838996128\t\t\t0.10312892601664822\t\t\t0.1162731277485703\t\t\t0.04256064606913805\t\t\t0.16138497618030673\n",
      "6\t\t\t0.3542014780045769\t\t\t0.645798521995423\t\t\t0.10740359765897867\t\t\t0.11390361864667059\t\t\t0.053367804667444334\t\t\t0.1534714165913646\n",
      "7\t\t\t0.35348533798289633\t\t\t0.6465146620171037\t\t\t0.10957787038743903\t\t\t0.11271006809999205\t\t\t0.06139781405601377\t\t\t0.1476483668068862\n",
      "8\t\t\t0.3531458101890061\t\t\t0.646854189810994\t\t\t0.11064245304793971\t\t\t0.1121284577146201\t\t\t0.06755339393000631\t\t\t0.14320837817035026\n",
      "9\t\t\t0.3529861053214904\t\t\t0.6470138946785096\t\t\t0.11115168537949753\t\t\t0.1118508868103113\t\t\t0.07239764853550566\t\t\t0.1397242124636819\n",
      "10\t\t\t0.3529112793026582\t\t\t0.6470887206973417\t\t\t0.11139225551837698\t\t\t0.11171989961223279\t\t\t0.07629710923379279\t\t\t0.13692378117853535\n",
      "Done\n",
      "MW method is finished. The loss for group A is  0.07629710925092016 For group B is  0.13692378119996446\n",
      "Record:\n",
      "iteration\t\t\tw_1\t\t\tw_2\t\t\tloss A\t\t\tloss B\t\t\tloss A by average\t\t\tloss B by average\n",
      "1\t\t\t0.39802409121527754\t\t\t0.6019759087847223\t\t\t-0.119539452242463\t\t\t0.2941654394913804\t\t\t-0.119539452242463\t\t\t0.2941654394913804\n",
      "2\t\t\t0.3760083661041169\t\t\t0.6239916338958832\t\t\t0.05353109047807973\t\t\t0.14635176638638292\t\t\t-0.03300418088219308\t\t\t0.22025860293888283\n",
      "3\t\t\t0.364637398781367\t\t\t0.6353626012186331\t\t\t0.08056655457230735\t\t\t0.12933341658136394\t\t\t0.004852730935976618\t\t\t0.18995020748637498\n",
      "4\t\t\t0.3587077142402345\t\t\t0.6412922857597655\t\t\t0.0951161131439741\t\t\t0.12080113009589451\t\t\t0.027418576487974543\t\t\t0.17266293813875722\n",
      "5\t\t\t0.3556897163519714\t\t\t0.6443102836480286\t\t\t0.10312892529696073\t\t\t0.11627312815189039\t\t\t0.042560646249772356\t\t\t0.1613849761413834\n",
      "6\t\t\t0.3542014779999057\t\t\t0.6457985220000942\t\t\t0.10740359693884366\t\t\t0.113903619044741\t\t\t0.0533678046979485\t\t\t0.15347141662527475\n",
      "7\t\t\t0.3534853379604788\t\t\t0.6465146620395211\t\t\t0.10957787033750344\t\t\t0.1127100681277279\t\t\t0.06139781407502943\t\t\t0.14764836683991192\n",
      "8\t\t\t0.3531458091992772\t\t\t0.6468541908007228\t\t\t0.11064245030900074\t\t\t0.11212845921026021\t\t\t0.06755339360427728\t\t\t0.14320837838620457\n",
      "9\t\t\t0.3529861048856053\t\t\t0.6470138951143948\t\t\t0.11115168694856356\t\t\t0.11185088595524395\t\t\t0.07239764842030588\t\t\t0.13972421256054096\n",
      "10\t\t\t0.35291127929284455\t\t\t0.6470887207071554\t\t\t0.11139225672645446\t\t\t0.11171989895474516\t\t\t0.07629710925092016\t\t\t0.13692378119996446\n",
      "Done\n",
      "MW method is finished. The loss for group A is  0.0762971092651256 For group B is  0.1369237812068056\n",
      "Record:\n",
      "iteration\t\t\tw_1\t\t\tw_2\t\t\tloss A\t\t\tloss B\t\t\tloss A by average\t\t\tloss B by average\n",
      "1\t\t\t0.39802409105201\t\t\t0.6019759089479899\t\t\t-0.1195394525833907\t\t\t0.29416543983186744\t\t\t-0.1195394525833907\t\t\t0.29416543983186744\n",
      "2\t\t\t0.3760083661600995\t\t\t0.6239916338399005\t\t\t0.0535310910324384\t\t\t0.1463517660207234\t\t\t-0.033004180775473256\t\t\t0.22025860292629304\n",
      "3\t\t\t0.36463739888972874\t\t\t0.6353626011102713\t\t\t0.08056655471513555\t\t\t0.1293334164950681\t\t\t0.0048527310547277535\t\t\t0.18995020744921806\n",
      "4\t\t\t0.3587077134366919\t\t\t0.6412922865633082\t\t\t0.0951161106272781\t\t\t0.12080113154003569\t\t\t0.027418575947867504\t\t\t0.17266293847192307\n",
      "5\t\t\t0.3556897154560272\t\t\t0.6443102845439728\t\t\t0.10312892503032864\t\t\t0.11627312830158919\t\t\t0.04256064576435627\t\t\t0.16138497643785582\n",
      "6\t\t\t0.3542014776836774\t\t\t0.6457985223163226\t\t\t0.10740359856794789\t\t\t0.11390361814686743\t\t\t0.05336780456495728\t\t\t0.15347141672269188\n",
      "7\t\t\t0.35348533779411784\t\t\t0.6465146622058822\t\t\t0.10957787076067256\t\t\t0.11271006789638466\t\t\t0.06139781402148762\t\t\t0.1476483668903633\n",
      "8\t\t\t0.3531458101519207\t\t\t0.6468541898480793\t\t\t0.11064245347749839\t\t\t0.11212845748048177\t\t\t0.0675533939534886\t\t\t0.14320837821412838\n",
      "9\t\t\t0.3529861053236643\t\t\t0.6470138946763357\t\t\t0.1111516854909294\t\t\t0.11185088674987843\t\t\t0.07239764856876141\t\t\t0.1397242124958776\n",
      "10\t\t\t0.35291127930965593\t\t\t0.6470887206903441\t\t\t0.11139225553241207\t\t\t0.11171989960514335\t\t\t0.0762971092651256\t\t\t0.1369237812068056\n",
      "Done\n",
      "MW method is finished. The loss for group A is  0.07629710992406462 For group B is  0.13692378089496718\n",
      "Record:\n",
      "iteration\t\t\tw_1\t\t\tw_2\t\t\tloss A\t\t\tloss B\t\t\tloss A by average\t\t\tloss B by average\n",
      "1\t\t\t0.3980240903738976\t\t\t0.6019759096261025\t\t\t-0.11953945399566562\t\t\t0.2941654412497673\t\t\t-0.11953945399566562\t\t\t0.2941654412497673\n",
      "2\t\t\t0.37600836576042934\t\t\t0.6239916342395707\t\t\t0.05353109171156243\t\t\t0.1463517655731073\t\t\t-0.03300418114205448\t\t\t0.2202586034114373\n",
      "3\t\t\t0.3646373987617524\t\t\t0.6353626012382476\t\t\t0.0805665554338558\t\t\t0.12933341606274468\t\t\t0.004852731049917537\t\t\t0.1899502076285374\n",
      "4\t\t\t0.35870771401503987\t\t\t0.6412922859849602\t\t\t0.09511611257519921\t\t\t0.12080113042140812\t\t\t0.02741857643123651\t\t\t0.17266293832675508\n",
      "5\t\t\t0.3556897157685788\t\t\t0.6443102842314212\t\t\t0.10312892429218275\t\t\t0.11627312871378645\t\t\t0.042560646003426336\t\t\t0.16138497640416324\n",
      "6\t\t\t0.35420147818687514\t\t\t0.6457985218131247\t\t\t0.10740359910594144\t\t\t0.11390361784883428\t\t\t0.053367804853844555\t\t\t0.15347141664493977\n",
      "7\t\t\t0.3534853381135292\t\t\t0.6465146618864709\t\t\t0.10957787024198051\t\t\t0.11271006817987712\t\t\t0.06139781419500766\t\t\t0.14764836686421653\n",
      "8\t\t\t0.3531458106212203\t\t\t0.6468541893787798\t\t\t0.11064245390059821\t\t\t0.11212845724681637\t\t\t0.06755339415820576\t\t\t0.14320837816204063\n",
      "9\t\t\t0.3529861056139742\t\t\t0.6470138943860259\t\t\t0.11115168498382691\t\t\t0.11185088702606628\t\t\t0.07239764869439005\t\t\t0.13972421248026806\n",
      "10\t\t\t0.35291128152657814\t\t\t0.6470887184734219\t\t\t0.11139226099118772\t\t\t0.11171989662724509\t\t\t0.07629710992406462\t\t\t0.13692378089496718\n"
     ]
    },
    {
     "name": "stdout",
     "output_type": "stream",
     "text": [
      "Done\n",
      "MW method is finished. The loss for group A is  0.07629710918067542 For group B is  0.13692378122840734\n",
      "Record:\n",
      "iteration\t\t\tw_1\t\t\tw_2\t\t\tloss A\t\t\tloss B\t\t\tloss A by average\t\t\tloss B by average\n",
      "1\t\t\t0.39802409154264357\t\t\t0.6019759084573564\t\t\t-0.11953945155937473\t\t\t0.2941654388081717\t\t\t-0.11953945155937473\t\t\t0.2941654388081717\n",
      "2\t\t\t0.37600836675523247\t\t\t0.6239916332447677\t\t\t0.053531091325789426\t\t\t0.14635176582526957\t\t\t-0.033004180116794096\t\t\t0.22025860231671945\n",
      "3\t\t\t0.3646373971912793\t\t\t0.6353626028087207\t\t\t0.08056654855251205\t\t\t0.12933342020007144\t\t\t0.0048527294396441744\t\t\t0.18995020827783834\n",
      "4\t\t\t0.3587077126877434\t\t\t0.6412922873122566\t\t\t0.09511611321908392\t\t\t0.12080113005651241\t\t\t0.027418575384503388\t\t\t0.17266293872250568\n",
      "5\t\t\t0.3556897153255637\t\t\t0.6443102846744362\t\t\t0.10312892675440144\t\t\t0.11627312733915632\t\t\t0.04256064565848242\t\t\t0.16138497644583677\n",
      "6\t\t\t0.3542014775527434\t\t\t0.6457985224472567\t\t\t0.10740359856608847\t\t\t0.11390361814813965\t\t\t0.0533678044764158\t\t\t0.1534714167295543\n",
      "7\t\t\t0.3534853373930397\t\t\t0.6465146626069602\t\t\t0.10957786999691356\t\t\t0.11271006831522679\t\t\t0.061397813836487736\t\t\t0.14764836695607894\n",
      "8\t\t\t0.35314580990997013\t\t\t0.6468541900900299\t\t\t0.11064245392805917\t\t\t0.11212845723520559\t\t\t0.06755339384793237\t\t\t0.143208378240968\n",
      "9\t\t\t0.3529861050626216\t\t\t0.6470138949373785\t\t\t0.11115168543649541\t\t\t0.11185088677925775\t\t\t0.07239764846888734\t\t\t0.13972421252300335\n",
      "10\t\t\t0.3529112790674699\t\t\t0.6470887209325301\t\t\t0.11139225558678831\t\t\t0.11171989957705752\t\t\t0.07629710918067542\t\t\t0.13692378122840734\n",
      "Done\n",
      "MW method is finished. The loss for group A is  0.07629710918053394 For group B is  0.13692378125650972\n",
      "Record:\n",
      "iteration\t\t\tw_1\t\t\tw_2\t\t\tloss A\t\t\tloss B\t\t\tloss A by average\t\t\tloss B by average\n",
      "1\t\t\t0.39802409126357086\t\t\t0.6019759087364291\t\t\t-0.11953945213915307\t\t\t0.2941654393931332\t\t\t-0.11953945213915307\t\t\t0.2941654393931332\n",
      "2\t\t\t0.3760083654119889\t\t\t0.6239916345880112\t\t\t0.053531088580114426\t\t\t0.1463517676398943\t\t\t-0.033004181779517874\t\t\t0.22025860351651377\n",
      "3\t\t\t0.36463739838620307\t\t\t0.6353626016137969\t\t\t0.08056655534565792\t\t\t0.12933341611046242\t\t\t0.0048527305955397585\t\t\t0.18995020771449508\n",
      "4\t\t\t0.35870771291755993\t\t\t0.64129228708244\t\t\t0.09511611057384023\t\t\t0.12080113156993998\t\t\t0.027418575590118486\t\t\t0.1726629386783563\n",
      "5\t\t\t0.3556897151709471\t\t\t0.644310284829053\t\t\t0.10312892568070975\t\t\t0.11627312793917645\t\t\t0.042560645608235005\t\t\t0.16138497653052222\n",
      "6\t\t\t0.35420147761989373\t\t\t0.6457985223801062\t\t\t0.1074035991901029\t\t\t0.11390361780392345\t\t\t0.053367804538544394\t\t\t0.1534714167427542\n",
      "7\t\t\t0.35348533787613945\t\t\t0.6465146621238606\t\t\t0.10957787117295373\t\t\t0.11271006767091776\t\t\t0.06139781405774903\t\t\t0.1476483668753473\n",
      "8\t\t\t0.35314581031859404\t\t\t0.646854189681406\t\t\t0.11064245371731338\t\t\t0.11212845734956596\t\t\t0.06755339401519277\t\t\t0.14320837818462612\n",
      "9\t\t\t0.3529861053825947\t\t\t0.6470138946174053\t\t\t0.1111516851856741\t\t\t0.11185088691622962\t\t\t0.07239764858969133\t\t\t0.13972421248813788\n",
      "10\t\t\t0.3529112790029665\t\t\t0.6470887209970336\t\t\t0.1113922544981116\t\t\t0.11171990017185161\t\t\t0.07629710918053394\t\t\t0.13692378125650972\n",
      "Done\n",
      "MW method is finished. The loss for group A is  0.07629711268764368 For group B is  0.13692377919759727\n",
      "Record:\n",
      "iteration\t\t\tw_1\t\t\tw_2\t\t\tloss A\t\t\tloss B\t\t\tloss A by average\t\t\tloss B by average\n",
      "1\t\t\t0.3980240916390065\t\t\t0.6019759083609936\t\t\t-0.11953945135759972\t\t\t0.2941654386077661\t\t\t-0.11953945135759972\t\t\t0.2941654386077661\n",
      "2\t\t\t0.3760083722358966\t\t\t0.6239916277641034\t\t\t0.05353110515307413\t\t\t0.14635175669559128\t\t\t-0.03300417310226568\t\t\t0.22025859765167868\n",
      "3\t\t\t0.3646374021464441\t\t\t0.635362597853556\t\t\t0.08056654731963857\t\t\t0.12933342093809208\t\t\t0.0048527337050386235\t\t\t0.18995020541381571\n",
      "4\t\t\t0.3587077131593672\t\t\t0.6412922868406328\t\t\t0.09511610092689633\t\t\t0.12080113710236118\t\t\t0.027418575510501607\t\t\t0.17266293833595384\n",
      "5\t\t\t0.35568971284515044\t\t\t0.6443102871548496\t\t\t0.10312891849981021\t\t\t0.11627313195802821\t\t\t0.04256064410836275\t\t\t0.16138497706036684\n",
      "6\t\t\t0.3542014760928697\t\t\t0.6457985239071303\t\t\t0.10740360143148762\t\t\t0.1139036165724513\t\t\t0.05336780366221882\t\t\t0.1534714169790468\n",
      "7\t\t\t0.3534853369525895\t\t\t0.6465146630474106\t\t\t0.10957787287582808\t\t\t0.11271006673926885\t\t\t0.06139781354987853\t\t\t0.1476483669447945\n",
      "8\t\t\t0.3531458097274565\t\t\t0.6468541902725435\t\t\t0.11064245465762695\t\t\t0.11212845683646123\t\t\t0.06755339368834636\t\t\t0.14320837818125165\n",
      "9\t\t\t0.3529861056703798\t\t\t0.6470138943296201\t\t\t0.11115168767584171\t\t\t0.11185088555853563\t\t\t0.07239764857584391\t\t\t0.13972421233428425\n",
      "10\t\t\t0.3529112917138102\t\t\t0.6470887082861899\t\t\t0.11139228969380975\t\t\t0.11171988096739557\t\t\t0.07629711268764368\t\t\t0.13692377919759727\n",
      "Done\n",
      "MW method is finished. The loss for group A is  0.07629710922692394 For group B is  0.1369237811956654\n",
      "Record:\n",
      "iteration\t\t\tw_1\t\t\tw_2\t\t\tloss A\t\t\tloss B\t\t\tloss A by average\t\t\tloss B by average\n",
      "1\t\t\t0.3980240914308209\t\t\t0.6019759085691789\t\t\t-0.11953945179221692\t\t\t0.29416543904203335\t\t\t-0.11953945179221692\t\t\t0.29416543904203335\n",
      "2\t\t\t0.3760083662632506\t\t\t0.6239916337367495\t\t\t0.05353109034443309\t\t\t0.14635176647408576\t\t\t-0.033004180723889026\t\t\t0.22025860275805956\n",
      "3\t\t\t0.3646373988321005\t\t\t0.6353626011678996\t\t\t0.08056655428450858\t\t\t0.12933341675282528\t\t\t0.0048527309455768395\t\t\t0.18995020742298147\n",
      "4\t\t\t0.3587077136345344\t\t\t0.6412922863654655\t\t\t0.09511611133153017\t\t\t0.1208011311354954\t\t\t0.027418576042062284\t\t\t0.17266293835110935\n",
      "5\t\t\t0.35568971587218035\t\t\t0.6443102841278197\t\t\t0.10312892564264955\t\t\t0.11627312795808005\t\t\t0.04256064596217858\t\t\t0.16138497627250728\n",
      "6\t\t\t0.3542014775725746\t\t\t0.6457985224274254\t\t\t0.10740359708149284\t\t\t0.1139036189620017\t\t\t0.05336780448206622\t\t\t0.15347141672075518\n",
      "7\t\t\t0.35348534193521863\t\t\t0.6465146580647815\t\t\t0.10957788277488968\t\t\t0.11271006130456511\t\t\t0.061397815666754875\t\t\t0.14764836594701372\n",
      "8\t\t\t0.3531458120851148\t\t\t0.6468541879148851\t\t\t0.11064244722883092\t\t\t0.11212846088932245\t\t\t0.06755339461201473\t\t\t0.1432083778148023\n",
      "9\t\t\t0.3529861056848201\t\t\t0.64701389431518\t\t\t0.11115168103892972\t\t\t0.11185088917936428\t\t\t0.07239764865944813\t\t\t0.13972421241086344\n",
      "10\t\t\t0.3529112792478602\t\t\t0.6470887207521399\t\t\t0.11139225433420333\t\t\t0.1117199002588687\t\t\t0.07629710922692394\t\t\t0.1369237811956654\n",
      "Done\n",
      "MW method is finished. The loss for group A is  0.07629710914562955 For group B is  0.1369237812090237\n",
      "Record:\n",
      "iteration\t\t\tw_1\t\t\tw_2\t\t\tloss A\t\t\tloss B\t\t\tloss A by average\t\t\tloss B by average\n",
      "1\t\t\t0.3980240919207635\t\t\t0.6019759080792365\t\t\t-0.1195394507688506\t\t\t0.29416543802057227\t\t\t-0.1195394507688506\t\t\t0.29416543802057227\n",
      "2\t\t\t0.3760083664688633\t\t\t0.6239916335311366\t\t\t0.053531089640495744\t\t\t0.14635176693863328\t\t\t-0.033004180564175985\t\t\t0.22025860247959922\n",
      "3\t\t\t0.36463739926228833\t\t\t0.6353626007377118\t\t\t0.08056655489743005\t\t\t0.12933341638524562\t\t\t0.004852731256358398\t\t\t0.18995020711481547\n",
      "4\t\t\t0.3587077135898563\t\t\t0.6412922864101437\t\t\t0.09511611002822137\t\t\t0.1208011318832516\t\t\t0.027418575949322697\t\t\t0.1726629383069245\n",
      "5\t\t\t0.355689715293555\t\t\t0.644310284706445\t\t\t0.10312892414887814\t\t\t0.11627312879491065\t\t\t0.04256064558923379\t\t\t0.16138497640452268\n",
      "6\t\t\t0.354201477311201\t\t\t0.645798522688799\t\t\t0.1074035979758524\t\t\t0.11390361847419005\t\t\t0.05336780432033785\t\t\t0.15347141674946527\n",
      "7\t\t\t0.3534853366391981\t\t\t0.6465146633608019\t\t\t0.10957786854897489\t\t\t0.11271006910993694\t\t\t0.061397813495860314\t\t\t0.1476483670866755\n",
      "8\t\t\t0.3531458096225416\t\t\t0.6468541903774584\t\t\t0.11064245524790922\t\t\t0.11212845651470754\t\t\t0.06755339371486607\t\t\t0.1432083782651804\n",
      "9\t\t\t0.35298610452439716\t\t\t0.647013895475603\t\t\t0.11115168472681236\t\t\t0.11185088716795204\t\t\t0.07239764827174931\t\t\t0.13972421258771164\n",
      "10\t\t\t0.35291127903170244\t\t\t0.6470887209682975\t\t\t0.11139225701056905\t\t\t0.1117198988008277\t\t\t0.07629710914562955\t\t\t0.1369237812090237\n",
      "Done\n",
      "MW method is finished. The loss for group A is  0.07629710912560335 For group B is  0.13692378133287372\n",
      "Record:\n",
      "iteration\t\t\tw_1\t\t\tw_2\t\t\tloss A\t\t\tloss B\t\t\tloss A by average\t\t\tloss B by average\n",
      "1\t\t\t0.39802409088911755\t\t\t0.6019759091108825\t\t\t-0.11953945292563789\t\t\t0.2941654401694695\t\t\t-0.11953945292563789\t\t\t0.2941654401694695\n",
      "2\t\t\t0.3760083643304593\t\t\t0.6239916356695407\t\t\t0.05353108674785506\t\t\t0.14635176885440193\t\t\t-0.03300418308889286\t\t\t0.22025860451193452\n",
      "3\t\t\t0.3646373978842629\t\t\t0.635362602115737\t\t\t0.0805665568753385\t\t\t0.12933341519710703\t\t\t0.004852730232518557\t\t\t0.18995020807366106\n",
      "4\t\t\t0.3587077129058511\t\t\t0.6412922870941489\t\t\t0.0951161119196874\t\t\t0.12080113080013509\t\t\t0.0274185756543086\t\t\t0.17266293875527838\n",
      "5\t\t\t0.3556897148982523\t\t\t0.6443102851017478\t\t\t0.10312892495059627\t\t\t0.1162731283480631\t\t\t0.0425606455135696\t\t\t0.16138497667383628\n",
      "6\t\t\t0.35420147737657426\t\t\t0.6457985226234257\t\t\t0.10740359927166003\t\t\t0.11390361775930585\t\t\t0.05336780447324845\t\t\t0.15347141685474747\n",
      "7\t\t\t0.35348533712505836\t\t\t0.6465146628749415\t\t\t0.10957786973730622\t\t\t0.11271006845807026\t\t\t0.06139781379668651\t\t\t0.14764836708379292\n",
      "8\t\t\t0.3531458094383607\t\t\t0.6468541905616393\t\t\t0.11064245335076968\t\t\t0.11212845754983673\t\t\t0.06755339374094402\t\t\t0.1432083783920478\n",
      "9\t\t\t0.35298610497240795\t\t\t0.6470138950275921\t\t\t0.11115168651763054\t\t\t0.11185088619086261\t\t\t0.07239764849390855\t\t\t0.1397242125919161\n",
      "10\t\t\t0.3529112787031316\t\t\t0.6470887212968683\t\t\t0.11139225481079588\t\t\t0.11171990000148277\t\t\t0.07629710912560335\t\t\t0.13692378133287372\n"
     ]
    },
    {
     "name": "stdout",
     "output_type": "stream",
     "text": [
      "Done\n",
      "MW method is finished. The loss for group A is  0.07629710929405042 For group B is  0.13692378116822276\n",
      "Record:\n",
      "iteration\t\t\tw_1\t\t\tw_2\t\t\tloss A\t\t\tloss B\t\t\tloss A by average\t\t\tloss B by average\n",
      "1\t\t\t0.3980240914470694\t\t\t0.6019759085529306\t\t\t-0.11953945175789865\t\t\t0.29416543900853703\t\t\t-0.11953945175789865\t\t\t0.29416543900853703\n",
      "2\t\t\t0.37600836597087206\t\t\t0.6239916340291279\t\t\t0.053531089553669316\t\t\t0.14635176699728314\t\t\t-0.033004181102111785\t\t\t0.22025860300291245\n",
      "3\t\t\t0.36463739878760354\t\t\t0.6353626012123965\t\t\t0.08056655494365836\t\t\t0.1293334163578929\t\t\t0.00485273091314397\t\t\t0.18995020745456945\n",
      "4\t\t\t0.3587077134701082\t\t\t0.6412922865298919\t\t\t0.0951161109994058\t\t\t0.12080113132608972\t\t\t0.02741857593470726\t\t\t0.1726629384224507\n",
      "5\t\t\t0.35568971549693407\t\t\t0.644310284503066\t\t\t0.1031289250522518\t\t\t0.1162731282902811\t\t\t0.04256064575821501\t\t\t0.1613849763960144\n",
      "6\t\t\t0.35420147785490147\t\t\t0.6457985221450986\t\t\t0.10740359893467925\t\t\t0.1139036179435509\t\t\t0.05336780462096194\t\t\t0.1534714166539399\n",
      "7\t\t\t0.3534853378438054\t\t\t0.6465146621561946\t\t\t0.10957787041696151\t\t\t0.11271006808379842\t\t\t0.06139781402039045\t\t\t0.14764836685820543\n",
      "8\t\t\t0.35314581017237306\t\t\t0.6468541898276269\t\t\t0.11064245339492493\t\t\t0.11212845752579459\t\t\t0.0675533939422051\t\t\t0.1432083781916517\n",
      "9\t\t\t0.3529861052844681\t\t\t0.6470138947155318\t\t\t0.11115168532201745\t\t\t0.11185088684212156\t\t\t0.07239764853996362\t\t\t0.13972421248614678\n",
      "10\t\t\t0.3529112794638167\t\t\t0.6470887205361834\t\t\t0.11139225608084603\t\t\t0.11171989930689263\t\t\t0.07629710929405042\t\t\t0.13692378116822276\n",
      "Done\n",
      "MW method is finished. The loss for group A is  0.07629710925196825 For group B is  0.1369237811870436\n",
      "Record:\n",
      "iteration\t\t\tw_1\t\t\tw_2\t\t\tloss A\t\t\tloss B\t\t\tloss A by average\t\t\tloss B by average\n",
      "1\t\t\t0.39802409140540423\t\t\t0.6019759085945958\t\t\t-0.1195394518456317\t\t\t0.2941654390946981\t\t\t-0.1195394518456317\t\t\t0.2941654390946981\n",
      "2\t\t\t0.3760083662953728\t\t\t0.6239916337046272\t\t\t0.053531090491164904\t\t\t0.1463517663778297\t\t\t-0.03300418067723628\t\t\t0.22025860273626152\n",
      "3\t\t\t0.36463739907033826\t\t\t0.6353626009296617\t\t\t0.08056655484151201\t\t\t0.12933341641841797\t\t\t0.0048527311623484054\t\t\t0.18995020729698192\n",
      "4\t\t\t0.35870771351201536\t\t\t0.6412922864879846\t\t\t0.09511611033953996\t\t\t0.12080113170443124\t\t\t0.02741857595664485\t\t\t0.17266293839884367\n",
      "5\t\t\t0.3556897156738309\t\t\t0.6443102843261692\t\t\t0.10312892543005012\t\t\t0.11627312807836879\t\t\t0.04256064585132706\t\t\t0.1613849763347468\n",
      "6\t\t\t0.35420147797064716\t\t\t0.6457985220293528\t\t\t0.10740359876344593\t\t\t0.11390361803819658\t\t\t0.053367804670011135\t\t\t0.15347141661865824\n",
      "7\t\t\t0.3534853381700556\t\t\t0.6465146618299444\t\t\t0.10957787101227633\t\t\t0.11271006775753993\t\t\t0.06139781414747718\t\t\t0.1476483667813543\n",
      "8\t\t\t0.35314580724027445\t\t\t0.6468541927597254\t\t\t0.11064244417129163\t\t\t0.11212846256540039\t\t\t0.06755339290045542\t\t\t0.1432083787543612\n",
      "9\t\t\t0.35298610481751586\t\t\t0.6470138951824842\t\t\t0.11115169230616875\t\t\t0.11185088303518209\t\t\t0.07239764838997785\t\t\t0.1397242125633408\n",
      "10\t\t\t0.3529112793247375\t\t\t0.6470887206752625\t\t\t0.11139225700988188\t\t\t0.11171989880038312\t\t\t0.07629710925196825\t\t\t0.1369237811870436\n"
     ]
    }
   ],
   "source": [
    "Xo_rnd = sklearn.utils.shuffle(Xo)\n",
    "\n",
    "exp_results = [run_fair_pca_rf_experiment(Xo_rnd) for _ in range(20)]\n",
    "\n",
    "avg_acc_lowEd = np.average([x[0] for x in exp_results])\n",
    "avg_acc_highEd = np.average([x[1] for x in exp_results])\n",
    "\n",
    "avg_fpr_lowEd = np.average([fpr(y_test_lowEd, y_pred_lowEd) for y_pred_lowEd, _, y_test_lowEd, _ in (x[2] for x in exp_results)])\n",
    "avg_fnr_lowEd = np.average([fnr(y_test_lowEd, y_pred_lowEd) for y_pred_lowEd, _, y_test_lowEd, _ in (x[2] for x in exp_results)])\n",
    "avg_fpr_highEd = np.average([fpr(y_test_highEd, y_pred_highEd) for _, y_pred_highEd, _, y_test_highEd in (x[2] for x in exp_results)])\n",
    "avg_fnr_highEd = np.average([fnr(y_test_highEd, y_pred_highEd) for _, y_pred_highEd, _, y_test_highEd in (x[2] for x in exp_results)])\n"
   ]
  },
  {
   "cell_type": "code",
   "execution_count": 211,
   "metadata": {},
   "outputs": [
    {
     "name": "stdout",
     "output_type": "stream",
     "text": [
      "avg_fpr_lowEd 6.30%\n",
      "avg_fnr_lowEd 14.65%\n",
      "avg_fpr_highEd 4.81%\n",
      "avg_fnr_highEd 14.41%\n",
      "avg_acc_lowEd 79.05%\n",
      "avg_acc_highEd 80.78%\n"
     ]
    }
   ],
   "source": [
    "dump(\"avg_fpr_lowEd\", \"avg_fnr_lowEd\", \"avg_fpr_highEd\", \"avg_fnr_highEd\", \"avg_acc_lowEd\", \"avg_acc_highEd\")"
   ]
  },
  {
   "cell_type": "markdown",
   "metadata": {},
   "source": [
    "With Fair PCA:"
   ]
  },
  {
   "cell_type": "code",
   "execution_count": 216,
   "metadata": {
    "scrolled": false
   },
   "outputs": [
    {
     "name": "stdout",
     "output_type": "stream",
     "text": [
      "HighEd advantage FNR: -0.026539543668044757\n",
      "HighEd advantage FPR: -0.00104189308781518\n",
      "HighEd advantage ACC: 0.02758143675586011\n"
     ]
    }
   ],
   "source": [
    "print(\"HighEd advantage FNR:\", avg_fnr_highEd - avg_fnr_lowEd)\n",
    "print(\"HighEd advantage FPR:\", avg_fpr_highEd - avg_fpr_lowEd)\n",
    "print(\"HighEd advantage ACC:\", avg_acc_highEd - avg_acc_lowEd)"
   ]
  },
  {
   "cell_type": "code",
   "execution_count": 2,
   "metadata": {},
   "outputs": [
    {
     "data": {
      "text/plain": [
       "0.013790718377929969"
      ]
     },
     "execution_count": 2,
     "metadata": {},
     "output_type": "execute_result"
    }
   ],
   "source": [
    "sum([0.026539543668044757, 0.00104189308781518])/2"
   ]
  },
  {
   "cell_type": "code",
   "execution_count": 5,
   "metadata": {},
   "outputs": [
    {
     "data": {
      "text/plain": [
       "0.002005070826894481"
      ]
     },
     "execution_count": 5,
     "metadata": {},
     "output_type": "execute_result"
    }
   ],
   "source": [
    "hmean([0.026539543668044757, 0.00104189308781518])"
   ]
  },
  {
   "cell_type": "markdown",
   "metadata": {},
   "source": [
    "Without Normal PCA:"
   ]
  },
  {
   "cell_type": "code",
   "execution_count": 218,
   "metadata": {},
   "outputs": [],
   "source": [
    "avg_fpr_lowEd = 5.10 * 0.01\n",
    "avg_fnr_lowEd = 15.92* 0.01\n",
    "avg_fpr_highEd = 3.71* 0.01\n",
    "avg_fnr_highEd = 14.20* 0.01\n",
    "avg_acc_lowEd = 78.98* 0.01\n",
    "avg_acc_highEd = 82.10* 0.01"
   ]
  },
  {
   "cell_type": "code",
   "execution_count": 219,
   "metadata": {},
   "outputs": [
    {
     "name": "stdout",
     "output_type": "stream",
     "text": [
      "HighEd advantage FNR: -0.01720000000000002\n",
      "HighEd advantage FPR: -0.013899999999999996\n",
      "HighEd advantage ACC: 0.031199999999999894\n"
     ]
    }
   ],
   "source": [
    "print(\"HighEd advantage FNR:\", avg_fnr_highEd - avg_fnr_lowEd)\n",
    "print(\"HighEd advantage FPR:\", avg_fpr_highEd - avg_fpr_lowEd)\n",
    "print(\"HighEd advantage ACC:\", avg_acc_highEd - avg_acc_lowEd)"
   ]
  },
  {
   "cell_type": "code",
   "execution_count": 3,
   "metadata": {},
   "outputs": [
    {
     "data": {
      "text/plain": [
       "0.015550000000000008"
      ]
     },
     "execution_count": 3,
     "metadata": {},
     "output_type": "execute_result"
    }
   ],
   "source": [
    "sum([0.01720000000000002, 0.00104189308781518])/2"
   ]
  },
  {
   "cell_type": "code",
   "execution_count": 4,
   "metadata": {},
   "outputs": [],
   "source": [
    "from scipy.stats import hmean"
   ]
  },
  {
   "cell_type": "code",
   "execution_count": 6,
   "metadata": {},
   "outputs": [
    {
     "data": {
      "text/plain": [
       "0.001964769887001616"
      ]
     },
     "execution_count": 6,
     "metadata": {},
     "output_type": "execute_result"
    }
   ],
   "source": [
    "hmean([0.01720000000000002, 0.00104189308781518])"
   ]
  },
  {
   "cell_type": "markdown",
   "metadata": {},
   "source": [
    "<img width=\"400\" src=\"https://d1yn1kh78jj1rr.cloudfront.net/image/preview/rDtN98Qoishumwih/swirl-design-separator_M1fewjtO_SB_PM.jpg\"/>"
   ]
  },
  {
   "cell_type": "code",
   "execution_count": null,
   "metadata": {},
   "outputs": [],
   "source": []
  }
 ],
 "metadata": {
  "kernelspec": {
   "display_name": "Python 3",
   "language": "python",
   "name": "python3"
  },
  "language_info": {
   "codemirror_mode": {
    "name": "ipython",
    "version": 3
   },
   "file_extension": ".py",
   "mimetype": "text/x-python",
   "name": "python",
   "nbconvert_exporter": "python",
   "pygments_lexer": "ipython3",
   "version": "3.7.7"
  }
 },
 "nbformat": 4,
 "nbformat_minor": 4
}
